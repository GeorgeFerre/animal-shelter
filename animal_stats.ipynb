{
 "cells": [
  {
   "cell_type": "markdown",
   "metadata": {},
   "source": [
    "# Creating a Decision Tree to Predict Outcome for Animal Shelter\n",
    "\n",
    "In this notebook, I will create a decision tree in order to predict certain outcomes for the Austin Animal Shelter. The model itself should help in determining what may happen to an animal when it comes in. Additionally, by examining the data and the model itself, I will examine opportunities to help with more positive outcomes (such as an animal being adopted), or minimize negative outcomes (such as animals not being adopted, necessitating a transfer to another facility). For this reason, I will use a decision tree classifier as my model, since it is more interpretable than black box models."
   ]
  },
  {
   "cell_type": "code",
   "execution_count": 1,
   "metadata": {},
   "outputs": [],
   "source": [
    "import pandas as pd\n",
    "import numpy as np\n",
    "import matplotlib.pyplot as plt\n",
    "import seaborn as sns\n",
    "from sklearn.preprocessing import OneHotEncoder, Normalizer\n",
    "from sklearn.model_selection import train_test_split\n",
    "from sklearn.neighbors import KNeighborsClassifier\n",
    "from sklearn.tree import DecisionTreeClassifier\n",
    "from sklearn.metrics import accuracy_score, plot_roc_curve, plot_confusion_matrix"
   ]
  },
  {
   "cell_type": "markdown",
   "metadata": {},
   "source": [
    "## Early Data Analysis\n",
    "\n",
    "To start, I need to examine the data available. The first thing that is noticable is that most of the data is catagorical, rather than numerical. I will see what data can be updated to a numeric stat, and otherwise reformat the categories into a more numerically friendly way. The data appears to be mostly filled in, except for significant empty values in outcome_subtype and name. I ultimately will not use outcome_subtype in my model, as it will inherently be too linked with the target, outcome_type. I will return to names later."
   ]
  },
  {
   "cell_type": "code",
   "execution_count": 2,
   "metadata": {},
   "outputs": [],
   "source": [
    "df = pd.read_csv('aac_shelter_outcomes.csv')"
   ]
  },
  {
   "cell_type": "code",
   "execution_count": 3,
   "metadata": {},
   "outputs": [
    {
     "data": {
      "text/html": [
       "<div>\n",
       "<style scoped>\n",
       "    .dataframe tbody tr th:only-of-type {\n",
       "        vertical-align: middle;\n",
       "    }\n",
       "\n",
       "    .dataframe tbody tr th {\n",
       "        vertical-align: top;\n",
       "    }\n",
       "\n",
       "    .dataframe thead th {\n",
       "        text-align: right;\n",
       "    }\n",
       "</style>\n",
       "<table border=\"1\" class=\"dataframe\">\n",
       "  <thead>\n",
       "    <tr style=\"text-align: right;\">\n",
       "      <th></th>\n",
       "      <th>age_upon_outcome</th>\n",
       "      <th>animal_id</th>\n",
       "      <th>animal_type</th>\n",
       "      <th>breed</th>\n",
       "      <th>color</th>\n",
       "      <th>date_of_birth</th>\n",
       "      <th>datetime</th>\n",
       "      <th>monthyear</th>\n",
       "      <th>name</th>\n",
       "      <th>outcome_subtype</th>\n",
       "      <th>outcome_type</th>\n",
       "      <th>sex_upon_outcome</th>\n",
       "    </tr>\n",
       "  </thead>\n",
       "  <tbody>\n",
       "    <tr>\n",
       "      <th>0</th>\n",
       "      <td>2 weeks</td>\n",
       "      <td>A684346</td>\n",
       "      <td>Cat</td>\n",
       "      <td>Domestic Shorthair Mix</td>\n",
       "      <td>Orange Tabby</td>\n",
       "      <td>2014-07-07T00:00:00</td>\n",
       "      <td>2014-07-22T16:04:00</td>\n",
       "      <td>2014-07-22T16:04:00</td>\n",
       "      <td>NaN</td>\n",
       "      <td>Partner</td>\n",
       "      <td>Transfer</td>\n",
       "      <td>Intact Male</td>\n",
       "    </tr>\n",
       "    <tr>\n",
       "      <th>1</th>\n",
       "      <td>1 year</td>\n",
       "      <td>A666430</td>\n",
       "      <td>Dog</td>\n",
       "      <td>Beagle Mix</td>\n",
       "      <td>White/Brown</td>\n",
       "      <td>2012-11-06T00:00:00</td>\n",
       "      <td>2013-11-07T11:47:00</td>\n",
       "      <td>2013-11-07T11:47:00</td>\n",
       "      <td>Lucy</td>\n",
       "      <td>Partner</td>\n",
       "      <td>Transfer</td>\n",
       "      <td>Spayed Female</td>\n",
       "    </tr>\n",
       "    <tr>\n",
       "      <th>2</th>\n",
       "      <td>1 year</td>\n",
       "      <td>A675708</td>\n",
       "      <td>Dog</td>\n",
       "      <td>Pit Bull</td>\n",
       "      <td>Blue/White</td>\n",
       "      <td>2013-03-31T00:00:00</td>\n",
       "      <td>2014-06-03T14:20:00</td>\n",
       "      <td>2014-06-03T14:20:00</td>\n",
       "      <td>*Johnny</td>\n",
       "      <td>NaN</td>\n",
       "      <td>Adoption</td>\n",
       "      <td>Neutered Male</td>\n",
       "    </tr>\n",
       "    <tr>\n",
       "      <th>3</th>\n",
       "      <td>9 years</td>\n",
       "      <td>A680386</td>\n",
       "      <td>Dog</td>\n",
       "      <td>Miniature Schnauzer Mix</td>\n",
       "      <td>White</td>\n",
       "      <td>2005-06-02T00:00:00</td>\n",
       "      <td>2014-06-15T15:50:00</td>\n",
       "      <td>2014-06-15T15:50:00</td>\n",
       "      <td>Monday</td>\n",
       "      <td>Partner</td>\n",
       "      <td>Transfer</td>\n",
       "      <td>Neutered Male</td>\n",
       "    </tr>\n",
       "    <tr>\n",
       "      <th>4</th>\n",
       "      <td>5 months</td>\n",
       "      <td>A683115</td>\n",
       "      <td>Other</td>\n",
       "      <td>Bat Mix</td>\n",
       "      <td>Brown</td>\n",
       "      <td>2014-01-07T00:00:00</td>\n",
       "      <td>2014-07-07T14:04:00</td>\n",
       "      <td>2014-07-07T14:04:00</td>\n",
       "      <td>NaN</td>\n",
       "      <td>Rabies Risk</td>\n",
       "      <td>Euthanasia</td>\n",
       "      <td>Unknown</td>\n",
       "    </tr>\n",
       "  </tbody>\n",
       "</table>\n",
       "</div>"
      ],
      "text/plain": [
       "  age_upon_outcome animal_id animal_type                    breed  \\\n",
       "0          2 weeks   A684346         Cat   Domestic Shorthair Mix   \n",
       "1           1 year   A666430         Dog               Beagle Mix   \n",
       "2           1 year   A675708         Dog                 Pit Bull   \n",
       "3          9 years   A680386         Dog  Miniature Schnauzer Mix   \n",
       "4         5 months   A683115       Other                  Bat Mix   \n",
       "\n",
       "          color        date_of_birth             datetime  \\\n",
       "0  Orange Tabby  2014-07-07T00:00:00  2014-07-22T16:04:00   \n",
       "1   White/Brown  2012-11-06T00:00:00  2013-11-07T11:47:00   \n",
       "2    Blue/White  2013-03-31T00:00:00  2014-06-03T14:20:00   \n",
       "3         White  2005-06-02T00:00:00  2014-06-15T15:50:00   \n",
       "4         Brown  2014-01-07T00:00:00  2014-07-07T14:04:00   \n",
       "\n",
       "             monthyear     name outcome_subtype outcome_type sex_upon_outcome  \n",
       "0  2014-07-22T16:04:00      NaN         Partner     Transfer      Intact Male  \n",
       "1  2013-11-07T11:47:00     Lucy         Partner     Transfer    Spayed Female  \n",
       "2  2014-06-03T14:20:00  *Johnny             NaN     Adoption    Neutered Male  \n",
       "3  2014-06-15T15:50:00   Monday         Partner     Transfer    Neutered Male  \n",
       "4  2014-07-07T14:04:00      NaN     Rabies Risk   Euthanasia          Unknown  "
      ]
     },
     "execution_count": 3,
     "metadata": {},
     "output_type": "execute_result"
    }
   ],
   "source": [
    "df.head()"
   ]
  },
  {
   "cell_type": "code",
   "execution_count": 4,
   "metadata": {},
   "outputs": [
    {
     "data": {
      "text/html": [
       "<div>\n",
       "<style scoped>\n",
       "    .dataframe tbody tr th:only-of-type {\n",
       "        vertical-align: middle;\n",
       "    }\n",
       "\n",
       "    .dataframe tbody tr th {\n",
       "        vertical-align: top;\n",
       "    }\n",
       "\n",
       "    .dataframe thead th {\n",
       "        text-align: right;\n",
       "    }\n",
       "</style>\n",
       "<table border=\"1\" class=\"dataframe\">\n",
       "  <thead>\n",
       "    <tr style=\"text-align: right;\">\n",
       "      <th></th>\n",
       "      <th>age_upon_outcome</th>\n",
       "      <th>animal_id</th>\n",
       "      <th>animal_type</th>\n",
       "      <th>breed</th>\n",
       "      <th>color</th>\n",
       "      <th>date_of_birth</th>\n",
       "      <th>datetime</th>\n",
       "      <th>monthyear</th>\n",
       "      <th>name</th>\n",
       "      <th>outcome_subtype</th>\n",
       "      <th>outcome_type</th>\n",
       "      <th>sex_upon_outcome</th>\n",
       "    </tr>\n",
       "  </thead>\n",
       "  <tbody>\n",
       "    <tr>\n",
       "      <th>count</th>\n",
       "      <td>78248</td>\n",
       "      <td>78256</td>\n",
       "      <td>78256</td>\n",
       "      <td>78256</td>\n",
       "      <td>78256</td>\n",
       "      <td>78256</td>\n",
       "      <td>78256</td>\n",
       "      <td>78256</td>\n",
       "      <td>54370</td>\n",
       "      <td>35963</td>\n",
       "      <td>78244</td>\n",
       "      <td>78254</td>\n",
       "    </tr>\n",
       "    <tr>\n",
       "      <th>unique</th>\n",
       "      <td>46</td>\n",
       "      <td>70855</td>\n",
       "      <td>5</td>\n",
       "      <td>2128</td>\n",
       "      <td>525</td>\n",
       "      <td>5869</td>\n",
       "      <td>64361</td>\n",
       "      <td>64361</td>\n",
       "      <td>14574</td>\n",
       "      <td>19</td>\n",
       "      <td>9</td>\n",
       "      <td>5</td>\n",
       "    </tr>\n",
       "    <tr>\n",
       "      <th>top</th>\n",
       "      <td>1 year</td>\n",
       "      <td>A718223</td>\n",
       "      <td>Dog</td>\n",
       "      <td>Domestic Shorthair Mix</td>\n",
       "      <td>Black/White</td>\n",
       "      <td>2014-05-05T00:00:00</td>\n",
       "      <td>2016-04-18T00:00:00</td>\n",
       "      <td>2016-04-18T00:00:00</td>\n",
       "      <td>Bella</td>\n",
       "      <td>Partner</td>\n",
       "      <td>Adoption</td>\n",
       "      <td>Neutered Male</td>\n",
       "    </tr>\n",
       "    <tr>\n",
       "      <th>freq</th>\n",
       "      <td>14355</td>\n",
       "      <td>11</td>\n",
       "      <td>44242</td>\n",
       "      <td>23335</td>\n",
       "      <td>8153</td>\n",
       "      <td>112</td>\n",
       "      <td>39</td>\n",
       "      <td>39</td>\n",
       "      <td>344</td>\n",
       "      <td>19660</td>\n",
       "      <td>33112</td>\n",
       "      <td>27784</td>\n",
       "    </tr>\n",
       "  </tbody>\n",
       "</table>\n",
       "</div>"
      ],
      "text/plain": [
       "       age_upon_outcome animal_id animal_type                   breed  \\\n",
       "count             78248     78256       78256                   78256   \n",
       "unique               46     70855           5                    2128   \n",
       "top              1 year   A718223         Dog  Domestic Shorthair Mix   \n",
       "freq              14355        11       44242                   23335   \n",
       "\n",
       "              color        date_of_birth             datetime  \\\n",
       "count         78256                78256                78256   \n",
       "unique          525                 5869                64361   \n",
       "top     Black/White  2014-05-05T00:00:00  2016-04-18T00:00:00   \n",
       "freq           8153                  112                   39   \n",
       "\n",
       "                  monthyear   name outcome_subtype outcome_type  \\\n",
       "count                 78256  54370           35963        78244   \n",
       "unique                64361  14574              19            9   \n",
       "top     2016-04-18T00:00:00  Bella         Partner     Adoption   \n",
       "freq                     39    344           19660        33112   \n",
       "\n",
       "       sex_upon_outcome  \n",
       "count             78254  \n",
       "unique                5  \n",
       "top       Neutered Male  \n",
       "freq              27784  "
      ]
     },
     "execution_count": 4,
     "metadata": {},
     "output_type": "execute_result"
    }
   ],
   "source": [
    "df.describe()"
   ]
  },
  {
   "cell_type": "code",
   "execution_count": 5,
   "metadata": {},
   "outputs": [
    {
     "data": {
      "text/plain": [
       "age_upon_outcome        8\n",
       "animal_id               0\n",
       "animal_type             0\n",
       "breed                   0\n",
       "color                   0\n",
       "date_of_birth           0\n",
       "datetime                0\n",
       "monthyear               0\n",
       "name                23886\n",
       "outcome_subtype     42293\n",
       "outcome_type           12\n",
       "sex_upon_outcome        2\n",
       "dtype: int64"
      ]
     },
     "execution_count": 5,
     "metadata": {},
     "output_type": "execute_result"
    }
   ],
   "source": [
    "df.isna().sum()"
   ]
  },
  {
   "cell_type": "code",
   "execution_count": 6,
   "metadata": {},
   "outputs": [],
   "source": [
    "df.fillna({'name': 'none', 'outcome_subtype': 'N/A'}, inplace=True)\n",
    "df.dropna(inplace=True)"
   ]
  },
  {
   "cell_type": "markdown",
   "metadata": {},
   "source": [
    "## The Target: outcome_type\n",
    "\n",
    "I ultimately want to know what the outcome for a given animal will be. On investigation, the 4 outcomes with notable data points are Adoption, Return to Owner, Transfer and Euthanasia. Ideally we would like to get animals adopted or returned as much as possible, and avoid needing to transfer an animal or euthanize an animal. On further investigation into euthanization, however, I found that there unfortunately the reasons for Euthanasia were pretty immutable (There is no realistic intervention an animal shelter could take to cure extreme medical issues, or solve extreme behavioral issues). As such, I limited the model to adoption, transfer, and return to owner data."
   ]
  },
  {
   "cell_type": "code",
   "execution_count": 7,
   "metadata": {},
   "outputs": [
    {
     "data": {
      "text/plain": [
       "Adoption           0.423227\n",
       "Transfer           0.300331\n",
       "Return to Owner    0.183455\n",
       "Euthanasia         0.077661\n",
       "Died               0.008692\n",
       "Disposal           0.003924\n",
       "Rto-Adopt          0.001917\n",
       "Missing            0.000588\n",
       "Relocate           0.000205\n",
       "Name: outcome_type, dtype: float64"
      ]
     },
     "execution_count": 7,
     "metadata": {},
     "output_type": "execute_result"
    }
   ],
   "source": [
    "df['outcome_type'].value_counts(normalize=True)"
   ]
  },
  {
   "cell_type": "code",
   "execution_count": 8,
   "metadata": {},
   "outputs": [],
   "source": [
    "df.loc[df['outcome_type']=='Rto-Adopt', 'outcome_type'] = 'Return to Owner'"
   ]
  },
  {
   "cell_type": "code",
   "execution_count": 9,
   "metadata": {},
   "outputs": [],
   "source": [
    "df = df[ (df['outcome_type']=='Adoption') | (df['outcome_type']=='Transfer') | (df['outcome_type']=='Return to Owner') \\\n",
    "        | (df['outcome_type']=='Euthanasia')]"
   ]
  },
  {
   "cell_type": "code",
   "execution_count": 10,
   "metadata": {},
   "outputs": [
    {
     "data": {
      "text/plain": [
       "Suffering              2511\n",
       "Rabies Risk            2416\n",
       "Aggressive              506\n",
       "Medical                 259\n",
       "N/A                     170\n",
       "Behavior                142\n",
       "Underage                 28\n",
       "At Vet                   26\n",
       "Court/Investigation      18\n",
       "Name: outcome_subtype, dtype: int64"
      ]
     },
     "execution_count": 10,
     "metadata": {},
     "output_type": "execute_result"
    }
   ],
   "source": [
    "df_euthanized = df[df['outcome_type']=='Euthanasia']\n",
    "\n",
    "df_euthanized['outcome_subtype'].value_counts()"
   ]
  },
  {
   "cell_type": "code",
   "execution_count": 11,
   "metadata": {},
   "outputs": [],
   "source": [
    "df = df[df['outcome_type']!= 'Euthanasia']"
   ]
  },
  {
   "cell_type": "markdown",
   "metadata": {},
   "source": [
    "## Animal Types\n",
    "\n",
    "There does not appear to be many data points for animals outside of dogs and cats. The only other category with a significant number is \"Other\". As such, we will limit the model to only cats and dogs."
   ]
  },
  {
   "cell_type": "code",
   "execution_count": 12,
   "metadata": {},
   "outputs": [
    {
     "data": {
      "text/plain": [
       "Dog          42560\n",
       "Cat          27519\n",
       "Other          810\n",
       "Bird           214\n",
       "Livestock        9\n",
       "Name: animal_type, dtype: int64"
      ]
     },
     "execution_count": 12,
     "metadata": {},
     "output_type": "execute_result"
    }
   ],
   "source": [
    "df['animal_type'].value_counts()"
   ]
  },
  {
   "cell_type": "code",
   "execution_count": 13,
   "metadata": {},
   "outputs": [],
   "source": [
    "catsdogs = df[ (df['animal_type']!='Dog') & (df['animal_type']!='Cat')].index\n",
    "df.drop(catsdogs, inplace=True)"
   ]
  },
  {
   "cell_type": "markdown",
   "metadata": {},
   "source": [
    "## Temporal Data\n",
    "\n",
    "I theorize that there may be trends when adoption spikes (such as in the summer when people would be more willing to walk dogs, or around Christmas when families would be excited to get a new pet). It appears that not all months are covered in 2013 or 2018, so I excluded those years from the data to not artifically inflate the months counted in those years vs those not counted in those years. It does appear that adoption does tend to come in waves based on the data."
   ]
  },
  {
   "cell_type": "code",
   "execution_count": 14,
   "metadata": {},
   "outputs": [
    {
     "data": {
      "text/html": [
       "<div>\n",
       "<style scoped>\n",
       "    .dataframe tbody tr th:only-of-type {\n",
       "        vertical-align: middle;\n",
       "    }\n",
       "\n",
       "    .dataframe tbody tr th {\n",
       "        vertical-align: top;\n",
       "    }\n",
       "\n",
       "    .dataframe thead th {\n",
       "        text-align: right;\n",
       "    }\n",
       "</style>\n",
       "<table border=\"1\" class=\"dataframe\">\n",
       "  <thead>\n",
       "    <tr style=\"text-align: right;\">\n",
       "      <th></th>\n",
       "      <th>age_upon_outcome</th>\n",
       "      <th>animal_id</th>\n",
       "      <th>animal_type</th>\n",
       "      <th>breed</th>\n",
       "      <th>color</th>\n",
       "      <th>date_of_birth</th>\n",
       "      <th>datetime</th>\n",
       "      <th>monthyear</th>\n",
       "      <th>name</th>\n",
       "      <th>outcome_subtype</th>\n",
       "      <th>outcome_type</th>\n",
       "      <th>sex_upon_outcome</th>\n",
       "      <th>year</th>\n",
       "      <th>month</th>\n",
       "    </tr>\n",
       "  </thead>\n",
       "  <tbody>\n",
       "    <tr>\n",
       "      <th>0</th>\n",
       "      <td>2 weeks</td>\n",
       "      <td>A684346</td>\n",
       "      <td>Cat</td>\n",
       "      <td>Domestic Shorthair Mix</td>\n",
       "      <td>Orange Tabby</td>\n",
       "      <td>2014-07-07T00:00:00</td>\n",
       "      <td>2014-07-22T16:04:00</td>\n",
       "      <td>2014-07-22T16:04:00</td>\n",
       "      <td>none</td>\n",
       "      <td>Partner</td>\n",
       "      <td>Transfer</td>\n",
       "      <td>Intact Male</td>\n",
       "      <td>2014</td>\n",
       "      <td>7</td>\n",
       "    </tr>\n",
       "    <tr>\n",
       "      <th>1</th>\n",
       "      <td>1 year</td>\n",
       "      <td>A666430</td>\n",
       "      <td>Dog</td>\n",
       "      <td>Beagle Mix</td>\n",
       "      <td>White/Brown</td>\n",
       "      <td>2012-11-06T00:00:00</td>\n",
       "      <td>2013-11-07T11:47:00</td>\n",
       "      <td>2013-11-07T11:47:00</td>\n",
       "      <td>Lucy</td>\n",
       "      <td>Partner</td>\n",
       "      <td>Transfer</td>\n",
       "      <td>Spayed Female</td>\n",
       "      <td>2013</td>\n",
       "      <td>11</td>\n",
       "    </tr>\n",
       "    <tr>\n",
       "      <th>2</th>\n",
       "      <td>1 year</td>\n",
       "      <td>A675708</td>\n",
       "      <td>Dog</td>\n",
       "      <td>Pit Bull</td>\n",
       "      <td>Blue/White</td>\n",
       "      <td>2013-03-31T00:00:00</td>\n",
       "      <td>2014-06-03T14:20:00</td>\n",
       "      <td>2014-06-03T14:20:00</td>\n",
       "      <td>*Johnny</td>\n",
       "      <td>N/A</td>\n",
       "      <td>Adoption</td>\n",
       "      <td>Neutered Male</td>\n",
       "      <td>2014</td>\n",
       "      <td>6</td>\n",
       "    </tr>\n",
       "    <tr>\n",
       "      <th>3</th>\n",
       "      <td>9 years</td>\n",
       "      <td>A680386</td>\n",
       "      <td>Dog</td>\n",
       "      <td>Miniature Schnauzer Mix</td>\n",
       "      <td>White</td>\n",
       "      <td>2005-06-02T00:00:00</td>\n",
       "      <td>2014-06-15T15:50:00</td>\n",
       "      <td>2014-06-15T15:50:00</td>\n",
       "      <td>Monday</td>\n",
       "      <td>Partner</td>\n",
       "      <td>Transfer</td>\n",
       "      <td>Neutered Male</td>\n",
       "      <td>2014</td>\n",
       "      <td>6</td>\n",
       "    </tr>\n",
       "    <tr>\n",
       "      <th>5</th>\n",
       "      <td>4 months</td>\n",
       "      <td>A664462</td>\n",
       "      <td>Dog</td>\n",
       "      <td>Leonberger Mix</td>\n",
       "      <td>Brown/White</td>\n",
       "      <td>2013-06-03T00:00:00</td>\n",
       "      <td>2013-10-07T13:06:00</td>\n",
       "      <td>2013-10-07T13:06:00</td>\n",
       "      <td>*Edgar</td>\n",
       "      <td>Partner</td>\n",
       "      <td>Transfer</td>\n",
       "      <td>Intact Male</td>\n",
       "      <td>2013</td>\n",
       "      <td>10</td>\n",
       "    </tr>\n",
       "  </tbody>\n",
       "</table>\n",
       "</div>"
      ],
      "text/plain": [
       "  age_upon_outcome animal_id animal_type                    breed  \\\n",
       "0          2 weeks   A684346         Cat   Domestic Shorthair Mix   \n",
       "1           1 year   A666430         Dog               Beagle Mix   \n",
       "2           1 year   A675708         Dog                 Pit Bull   \n",
       "3          9 years   A680386         Dog  Miniature Schnauzer Mix   \n",
       "5         4 months   A664462         Dog           Leonberger Mix   \n",
       "\n",
       "          color        date_of_birth             datetime  \\\n",
       "0  Orange Tabby  2014-07-07T00:00:00  2014-07-22T16:04:00   \n",
       "1   White/Brown  2012-11-06T00:00:00  2013-11-07T11:47:00   \n",
       "2    Blue/White  2013-03-31T00:00:00  2014-06-03T14:20:00   \n",
       "3         White  2005-06-02T00:00:00  2014-06-15T15:50:00   \n",
       "5   Brown/White  2013-06-03T00:00:00  2013-10-07T13:06:00   \n",
       "\n",
       "             monthyear     name outcome_subtype outcome_type sex_upon_outcome  \\\n",
       "0  2014-07-22T16:04:00     none         Partner     Transfer      Intact Male   \n",
       "1  2013-11-07T11:47:00     Lucy         Partner     Transfer    Spayed Female   \n",
       "2  2014-06-03T14:20:00  *Johnny             N/A     Adoption    Neutered Male   \n",
       "3  2014-06-15T15:50:00   Monday         Partner     Transfer    Neutered Male   \n",
       "5  2013-10-07T13:06:00   *Edgar         Partner     Transfer      Intact Male   \n",
       "\n",
       "   year  month  \n",
       "0  2014      7  \n",
       "1  2013     11  \n",
       "2  2014      6  \n",
       "3  2014      6  \n",
       "5  2013     10  "
      ]
     },
     "execution_count": 14,
     "metadata": {},
     "output_type": "execute_result"
    }
   ],
   "source": [
    "df['year'] = pd.DatetimeIndex(df['monthyear']).year\n",
    "df['month'] = pd.DatetimeIndex(df['monthyear']).month\n",
    "df.head()"
   ]
  },
  {
   "cell_type": "code",
   "execution_count": 15,
   "metadata": {},
   "outputs": [
    {
     "data": {
      "text/plain": [
       "2015    0.236804\n",
       "2014    0.234007\n",
       "2017    0.228728\n",
       "2016    0.228143\n",
       "2013    0.056536\n",
       "2018    0.015782\n",
       "Name: year, dtype: float64"
      ]
     },
     "execution_count": 15,
     "metadata": {},
     "output_type": "execute_result"
    }
   ],
   "source": [
    "df['year'].value_counts(normalize=True)"
   ]
  },
  {
   "cell_type": "code",
   "execution_count": 16,
   "metadata": {},
   "outputs": [
    {
     "data": {
      "text/plain": [
       "10    6954\n",
       "7     6770\n",
       "12    6390\n",
       "11    6382\n",
       "6     6224\n",
       "8     6163\n",
       "5     6092\n",
       "9     5837\n",
       "1     5807\n",
       "4     4807\n",
       "3     4422\n",
       "2     4231\n",
       "Name: month, dtype: int64"
      ]
     },
     "execution_count": 16,
     "metadata": {},
     "output_type": "execute_result"
    }
   ],
   "source": [
    "df['month'].value_counts()"
   ]
  },
  {
   "cell_type": "code",
   "execution_count": 17,
   "metadata": {},
   "outputs": [],
   "source": [
    "df_years = df[ (df['year'] > 2013) & (df['year'] < 2018) ]"
   ]
  },
  {
   "cell_type": "code",
   "execution_count": 18,
   "metadata": {},
   "outputs": [
    {
     "data": {
      "text/plain": [
       "7     6770\n",
       "6     6224\n",
       "8     6163\n",
       "5     6092\n",
       "9     5837\n",
       "10    5531\n",
       "11    5196\n",
       "12    5037\n",
       "4     4807\n",
       "1     4731\n",
       "3     4422\n",
       "2     4201\n",
       "Name: month, dtype: int64"
      ]
     },
     "execution_count": 18,
     "metadata": {},
     "output_type": "execute_result"
    }
   ],
   "source": [
    "df_years['month'].value_counts()"
   ]
  },
  {
   "cell_type": "code",
   "execution_count": 19,
   "metadata": {},
   "outputs": [],
   "source": [
    "df = df[(df.year > 2013) & (df.year < 2018)]"
   ]
  },
  {
   "cell_type": "code",
   "execution_count": 20,
   "metadata": {},
   "outputs": [
    {
     "data": {
      "text/plain": [
       "2015    16595\n",
       "2014    16399\n",
       "2017    16029\n",
       "2016    15988\n",
       "Name: year, dtype: int64"
      ]
     },
     "execution_count": 20,
     "metadata": {},
     "output_type": "execute_result"
    }
   ],
   "source": [
    "df['year'].value_counts()"
   ]
  },
  {
   "cell_type": "code",
   "execution_count": 21,
   "metadata": {},
   "outputs": [],
   "source": [
    "monthname = {\n",
    "    1: 'Jan',\n",
    "    2: 'Feb',\n",
    "    3: 'Mar',\n",
    "    4: 'Apr',\n",
    "    5: 'May',\n",
    "    6: 'Jun',\n",
    "    7: 'Jul',\n",
    "    8: 'Aug',\n",
    "    9: 'Sep',\n",
    "    10: 'Oct',\n",
    "    11: 'Nov',\n",
    "    12: 'Dec'\n",
    "}\n",
    "\n",
    "df['month'] = df['month'].replace(monthname)"
   ]
  },
  {
   "cell_type": "code",
   "execution_count": 22,
   "metadata": {},
   "outputs": [
    {
     "data": {
      "text/html": [
       "<div>\n",
       "<style scoped>\n",
       "    .dataframe tbody tr th:only-of-type {\n",
       "        vertical-align: middle;\n",
       "    }\n",
       "\n",
       "    .dataframe tbody tr th {\n",
       "        vertical-align: top;\n",
       "    }\n",
       "\n",
       "    .dataframe thead th {\n",
       "        text-align: right;\n",
       "    }\n",
       "</style>\n",
       "<table border=\"1\" class=\"dataframe\">\n",
       "  <thead>\n",
       "    <tr style=\"text-align: right;\">\n",
       "      <th>outcome_type</th>\n",
       "      <th>Adoption</th>\n",
       "      <th>Return to Owner</th>\n",
       "      <th>Transfer</th>\n",
       "    </tr>\n",
       "    <tr>\n",
       "      <th>month</th>\n",
       "      <th></th>\n",
       "      <th></th>\n",
       "      <th></th>\n",
       "    </tr>\n",
       "  </thead>\n",
       "  <tbody>\n",
       "    <tr>\n",
       "      <th>Jan</th>\n",
       "      <td>0.497569</td>\n",
       "      <td>0.236525</td>\n",
       "      <td>0.265906</td>\n",
       "    </tr>\n",
       "    <tr>\n",
       "      <th>Feb</th>\n",
       "      <td>0.499405</td>\n",
       "      <td>0.241609</td>\n",
       "      <td>0.258986</td>\n",
       "    </tr>\n",
       "    <tr>\n",
       "      <th>Mar</th>\n",
       "      <td>0.425147</td>\n",
       "      <td>0.275667</td>\n",
       "      <td>0.299186</td>\n",
       "    </tr>\n",
       "    <tr>\n",
       "      <th>Apr</th>\n",
       "      <td>0.370293</td>\n",
       "      <td>0.243395</td>\n",
       "      <td>0.386312</td>\n",
       "    </tr>\n",
       "    <tr>\n",
       "      <th>May</th>\n",
       "      <td>0.396914</td>\n",
       "      <td>0.215036</td>\n",
       "      <td>0.388050</td>\n",
       "    </tr>\n",
       "    <tr>\n",
       "      <th>Jun</th>\n",
       "      <td>0.468670</td>\n",
       "      <td>0.170308</td>\n",
       "      <td>0.361022</td>\n",
       "    </tr>\n",
       "    <tr>\n",
       "      <th>Jul</th>\n",
       "      <td>0.535894</td>\n",
       "      <td>0.149778</td>\n",
       "      <td>0.314328</td>\n",
       "    </tr>\n",
       "    <tr>\n",
       "      <th>Aug</th>\n",
       "      <td>0.499108</td>\n",
       "      <td>0.163557</td>\n",
       "      <td>0.337336</td>\n",
       "    </tr>\n",
       "    <tr>\n",
       "      <th>Sep</th>\n",
       "      <td>0.447148</td>\n",
       "      <td>0.185369</td>\n",
       "      <td>0.367483</td>\n",
       "    </tr>\n",
       "    <tr>\n",
       "      <th>Oct</th>\n",
       "      <td>0.448563</td>\n",
       "      <td>0.196529</td>\n",
       "      <td>0.354909</td>\n",
       "    </tr>\n",
       "    <tr>\n",
       "      <th>Nov</th>\n",
       "      <td>0.469977</td>\n",
       "      <td>0.232294</td>\n",
       "      <td>0.297729</td>\n",
       "    </tr>\n",
       "    <tr>\n",
       "      <th>Dec</th>\n",
       "      <td>0.531666</td>\n",
       "      <td>0.224538</td>\n",
       "      <td>0.243796</td>\n",
       "    </tr>\n",
       "  </tbody>\n",
       "</table>\n",
       "</div>"
      ],
      "text/plain": [
       "outcome_type  Adoption  Return to Owner  Transfer\n",
       "month                                            \n",
       "Jan           0.497569         0.236525  0.265906\n",
       "Feb           0.499405         0.241609  0.258986\n",
       "Mar           0.425147         0.275667  0.299186\n",
       "Apr           0.370293         0.243395  0.386312\n",
       "May           0.396914         0.215036  0.388050\n",
       "Jun           0.468670         0.170308  0.361022\n",
       "Jul           0.535894         0.149778  0.314328\n",
       "Aug           0.499108         0.163557  0.337336\n",
       "Sep           0.447148         0.185369  0.367483\n",
       "Oct           0.448563         0.196529  0.354909\n",
       "Nov           0.469977         0.232294  0.297729\n",
       "Dec           0.531666         0.224538  0.243796"
      ]
     },
     "execution_count": 22,
     "metadata": {},
     "output_type": "execute_result"
    }
   ],
   "source": [
    "CrosstabResult=pd.crosstab(index=df['month'],columns=df['outcome_type'], normalize='index')\n",
    "\n",
    "month_order = ['Jan', 'Feb', 'Mar', 'Apr', 'May', 'Jun', 'Jul', 'Aug', 'Sep', 'Oct', 'Nov', 'Dec']\n",
    "\n",
    "CrosstabResult = CrosstabResult.reindex(month_order)\n",
    "CrosstabResult"
   ]
  },
  {
   "cell_type": "markdown",
   "metadata": {},
   "source": [
    "## Cats Vs Dogs\n",
    "\n",
    "We all know that there are cat people and dog people. However, I did not know whether we would see similar distrubutions of outcomes for each animal. As turns out, that is not the case. It turns out dogs tend to have more adoptions than transfers, while cats have about an equal number of adoptions and transfers. Additionally, dogs have a much better chance of getting returned to their owners."
   ]
  },
  {
   "cell_type": "code",
   "execution_count": 23,
   "metadata": {},
   "outputs": [
    {
     "data": {
      "text/plain": [
       "Dog    39306\n",
       "Cat    25705\n",
       "Name: animal_type, dtype: int64"
      ]
     },
     "execution_count": 23,
     "metadata": {},
     "output_type": "execute_result"
    }
   ],
   "source": [
    "df['animal_type'].value_counts()"
   ]
  },
  {
   "cell_type": "code",
   "execution_count": 24,
   "metadata": {},
   "outputs": [
    {
     "data": {
      "text/plain": [
       "animal_type  outcome_type   \n",
       "Cat          Adoption           11805\n",
       "             Return to Owner     1363\n",
       "             Transfer           12537\n",
       "Dog          Adoption           18557\n",
       "             Return to Owner    12059\n",
       "             Transfer            8690\n",
       "dtype: int64"
      ]
     },
     "execution_count": 24,
     "metadata": {},
     "output_type": "execute_result"
    }
   ],
   "source": [
    "df.groupby(['animal_type', 'outcome_type']).size()"
   ]
  },
  {
   "cell_type": "code",
   "execution_count": 25,
   "metadata": {},
   "outputs": [],
   "source": [
    "df_cats = df[df['animal_type']=='Cat']\n",
    "df_dogs = df[df['animal_type']=='Dog']"
   ]
  },
  {
   "cell_type": "code",
   "execution_count": 26,
   "metadata": {},
   "outputs": [
    {
     "data": {
      "text/plain": [
       "Index(['Transfer', 'Adoption', 'Return to Owner'], dtype='object')"
      ]
     },
     "execution_count": 26,
     "metadata": {},
     "output_type": "execute_result"
    }
   ],
   "source": [
    "cat_labels = df_cats['outcome_type'].value_counts().index\n",
    "cat_nums = df_cats['outcome_type'].value_counts().values\n",
    "cat_labels"
   ]
  },
  {
   "cell_type": "code",
   "execution_count": 27,
   "metadata": {},
   "outputs": [],
   "source": [
    "dog_labels = df_dogs['outcome_type'].value_counts().index\n",
    "dog_nums = df_dogs['outcome_type'].value_counts().values"
   ]
  },
  {
   "cell_type": "code",
   "execution_count": 28,
   "metadata": {},
   "outputs": [
    {
     "data": {
      "text/plain": [
       "array([False, False, False])"
      ]
     },
     "execution_count": 28,
     "metadata": {},
     "output_type": "execute_result"
    }
   ],
   "source": [
    "cat_labels == dog_labels"
   ]
  },
  {
   "cell_type": "code",
   "execution_count": 29,
   "metadata": {},
   "outputs": [
    {
     "name": "stdout",
     "output_type": "stream",
     "text": [
      "Index(['Transfer', 'Adoption', 'Return to Owner'], dtype='object')\n",
      "Index(['Adoption', 'Return to Owner', 'Transfer'], dtype='object')\n"
     ]
    }
   ],
   "source": [
    "print(cat_labels)\n",
    "print(dog_labels)"
   ]
  },
  {
   "cell_type": "code",
   "execution_count": 30,
   "metadata": {},
   "outputs": [
    {
     "data": {
      "text/plain": [
       "array([11805,  1363, 12537])"
      ]
     },
     "execution_count": 30,
     "metadata": {},
     "output_type": "execute_result"
    }
   ],
   "source": [
    "#Dog order is better, moving cat order around\n",
    "listorder = [1,2,0]\n",
    "cat_nums[:] = [cat_nums[i] for i in listorder]\n",
    "cat_nums"
   ]
  },
  {
   "cell_type": "code",
   "execution_count": 31,
   "metadata": {},
   "outputs": [
    {
     "data": {
      "image/png": "[encoded data removed]",
      "text/plain": [
       "<Figure size 432x288 with 1 Axes>"
      ]
     },
     "metadata": {
      "needs_background": "light"
     },
     "output_type": "display_data"
    }
   ],
   "source": [
    "fig, ax = plt.subplots()\n",
    "\n",
    "x = np.arange(len(dog_labels))  # the label locations\n",
    "width = 0.35  # the width of the bars\n",
    "\n",
    "rects1 = ax.bar(x - width/2, dog_nums, width, label='Dogs')\n",
    "rects2 = ax.bar(x + width/2, cat_nums, width, label='Cats')\n",
    "\n",
    "ax.set_ylabel('Total')\n",
    "ax.set_title('Outcomes of Cats and Dogs')\n",
    "plt.xticks(x, dog_labels)\n",
    "ax.set_facecolor('white')\n",
    "ax.legend()\n",
    "\n",
    "fig.tight_layout()\n",
    "\n",
    "plt.show()"
   ]
  },
  {
   "cell_type": "markdown",
   "metadata": {},
   "source": [
    "## Age\n",
    "\n",
    "Age is really the only feature I have that will realistically be on a numerical scale. After converting to an integer (in part by simplifiying the data to only be in years rather than days, weeks, months and years), we find that most animals are very young. My initial theoy would be that younger animals tended to get adopted more, while older animals are transferred, but the boxplots look roughly the same for each category. Animals returned to owners did seem to skew older."
   ]
  },
  {
   "cell_type": "code",
   "execution_count": 32,
   "metadata": {},
   "outputs": [
    {
     "data": {
      "text/plain": [
       "1 year       10933\n",
       "2 years       9066\n",
       "2 months      8355\n",
       "3 years       4329\n",
       "3 months      3036\n",
       "1 month       2780\n",
       "4 years       2543\n",
       "5 years       2306\n",
       "4 months      2105\n",
       "6 years       1594\n",
       "5 months      1548\n",
       "3 weeks       1371\n",
       "6 months      1359\n",
       "7 years       1343\n",
       "8 years       1337\n",
       "2 weeks       1208\n",
       "10 months     1059\n",
       "8 months      1029\n",
       "10 years       961\n",
       "7 months       855\n",
       "4 weeks        738\n",
       "9 years        701\n",
       "9 months       576\n",
       "12 years       468\n",
       "1 weeks        448\n",
       "11 months      427\n",
       "1 week         384\n",
       "11 years       362\n",
       "13 years       307\n",
       "3 days         213\n",
       "14 years       197\n",
       "2 days         191\n",
       "15 years       153\n",
       "6 days         138\n",
       "1 day          125\n",
       "4 days         119\n",
       "5 days          89\n",
       "16 years        74\n",
       "0 years         61\n",
       "5 weeks         48\n",
       "17 years        42\n",
       "18 years        16\n",
       "19 years         8\n",
       "20 years         6\n",
       "22 years         3\n",
       "Name: age_upon_outcome, dtype: int64"
      ]
     },
     "execution_count": 32,
     "metadata": {},
     "output_type": "execute_result"
    }
   ],
   "source": [
    "df['age_upon_outcome'].value_counts()"
   ]
  },
  {
   "cell_type": "code",
   "execution_count": 33,
   "metadata": {},
   "outputs": [],
   "source": [
    "def age_number(row):\n",
    "    if 'day' in row or 'week' in row or 'month' in row or row == '0 years':\n",
    "        return 0\n",
    "    elif row == '1 year':\n",
    "        return 1\n",
    "    else:\n",
    "        return row[:-6]"
   ]
  },
  {
   "cell_type": "code",
   "execution_count": 34,
   "metadata": {},
   "outputs": [],
   "source": [
    "df['age_number'] = df.apply(lambda row: age_number(row['age_upon_outcome']), axis=1)"
   ]
  },
  {
   "cell_type": "code",
   "execution_count": 35,
   "metadata": {},
   "outputs": [],
   "source": [
    "df['age_number'] = df['age_number'].astype('int64')"
   ]
  },
  {
   "cell_type": "code",
   "execution_count": 37,
   "metadata": {},
   "outputs": [
    {
     "data": {
      "image/png": "[encoded data removed]",
      "text/plain": [
       "<Figure size 432x288 with 1 Axes>"
      ]
     },
     "metadata": {
      "needs_background": "light"
     },
     "output_type": "display_data"
    }
   ],
   "source": [
    "df['age_number'].hist();"
   ]
  },
  {
   "cell_type": "code",
   "execution_count": 73,
   "metadata": {},
   "outputs": [
    {
     "data": {
      "image/png": "[encoded data removed]",
      "text/plain": [
       "<Figure size 432x288 with 1 Axes>"
      ]
     },
     "metadata": {
      "needs_background": "light"
     },
     "output_type": "display_data"
    }
   ],
   "source": [
    "sns.boxplot(x=df['age_number'], y=df['outcome_type'])\\\n",
    ".set(title=\"Outcome Compared to Age\", xlabel='Age', ylabel='Outcome');"
   ]
  },
  {
   "cell_type": "markdown",
   "metadata": {},
   "source": [
    "## Color\n",
    "\n",
    "Color was particularly difficult to handle for two reasons:\n",
    "\n",
    "1. There was a pretty long lists of colors and color combinations, making it diffcult to consolidate into larger more generic groups, especially without knowing a \"primary color\" for a given animal.\n",
    "2. Some color descriptions would overlap with animal breed (ie Calicos would only be cats)\n",
    "\n",
    "I still felt that this could be a valuable metric in the model, so I standardized as much as possible (by consolidating similar color descriptions and re-classifying animal specific mentions into the most commmon colors. From there I tabulated colors that appeared the most."
   ]
  },
  {
   "cell_type": "code",
   "execution_count": 39,
   "metadata": {},
   "outputs": [
    {
     "data": {
      "text/plain": [
       "Black/White            6969\n",
       "Black                  5557\n",
       "Brown Tabby            3921\n",
       "White                  2341\n",
       "Tan/White              2140\n",
       "Brown/White            2091\n",
       "Brown Tabby/White      2044\n",
       "Orange Tabby           1917\n",
       "Blue/White             1834\n",
       "White/Black            1777\n",
       "Tan                    1732\n",
       "Tricolor               1732\n",
       "Black/Tan              1615\n",
       "Brown                  1613\n",
       "White/Brown            1341\n",
       "Black/Brown            1245\n",
       "Brown Brindle/White    1199\n",
       "Calico                 1170\n",
       "Tortie                 1167\n",
       "Blue                   1160\n",
       "White/Tan              1028\n",
       "Blue Tabby             1004\n",
       "Orange Tabby/White      952\n",
       "Brown/Black             874\n",
       "Red                     796\n",
       "Red/White               754\n",
       "Torbie                  739\n",
       "Brown Brindle           632\n",
       "Tan/Black               541\n",
       "Chocolate/White         524\n",
       "Name: color, dtype: int64"
      ]
     },
     "execution_count": 39,
     "metadata": {},
     "output_type": "execute_result"
    }
   ],
   "source": [
    "df['color'].value_counts()[0:30]"
   ]
  },
  {
   "cell_type": "code",
   "execution_count": 40,
   "metadata": {},
   "outputs": [],
   "source": [
    "# While color changes will not be 100% accurate, these are most common. Want to make colors dog/cat agnostic\n",
    "\n",
    "color_change = {\n",
    "    'Calico': 'White/Orange/Black',\n",
    "    'Tortie': 'Red/Black',\n",
    "    'Torbie': 'Brown/Black',\n",
    "    'Tricolor': 'White/Orange/Black'\n",
    "}\n",
    "\n",
    "df.replace(color_change, inplace=True)"
   ]
  },
  {
   "cell_type": "code",
   "execution_count": 41,
   "metadata": {},
   "outputs": [],
   "source": [
    "df['brown'] = 0\n",
    "df['black'] = 0\n",
    "df['white'] = 0\n",
    "df['orange'] = 0\n",
    "df['blue'] = 0\n",
    "df['red'] = 0\n",
    "df['yellow'] = 0"
   ]
  },
  {
   "cell_type": "code",
   "execution_count": 42,
   "metadata": {},
   "outputs": [],
   "source": [
    "df.loc[df['color'].str.contains('Black'), 'black'] = 1\n",
    "df.loc[df['color'].str.contains('Brown'), 'brown'] = 1\n",
    "df.loc[df['color'].str.contains('White'), 'white'] = 1\n",
    "df.loc[df['color'].str.contains('Orange'), 'orange'] = 1\n",
    "df.loc[df['color'].str.contains('Blue'), 'blue'] = 1\n",
    "df.loc[df['color'].str.contains('Red'), 'red'] = 1\n",
    "df.loc[df['color'].str.contains('Yellow'), 'yellow'] = 1"
   ]
  },
  {
   "cell_type": "code",
   "execution_count": 43,
   "metadata": {},
   "outputs": [
    {
     "data": {
      "text/html": [
       "<div>\n",
       "<style scoped>\n",
       "    .dataframe tbody tr th:only-of-type {\n",
       "        vertical-align: middle;\n",
       "    }\n",
       "\n",
       "    .dataframe tbody tr th {\n",
       "        vertical-align: top;\n",
       "    }\n",
       "\n",
       "    .dataframe thead th {\n",
       "        text-align: right;\n",
       "    }\n",
       "</style>\n",
       "<table border=\"1\" class=\"dataframe\">\n",
       "  <thead>\n",
       "    <tr style=\"text-align: right;\">\n",
       "      <th></th>\n",
       "      <th>age_upon_outcome</th>\n",
       "      <th>animal_id</th>\n",
       "      <th>animal_type</th>\n",
       "      <th>breed</th>\n",
       "      <th>color</th>\n",
       "      <th>date_of_birth</th>\n",
       "      <th>datetime</th>\n",
       "      <th>monthyear</th>\n",
       "      <th>name</th>\n",
       "      <th>outcome_subtype</th>\n",
       "      <th>...</th>\n",
       "      <th>year</th>\n",
       "      <th>month</th>\n",
       "      <th>age_number</th>\n",
       "      <th>brown</th>\n",
       "      <th>black</th>\n",
       "      <th>white</th>\n",
       "      <th>orange</th>\n",
       "      <th>blue</th>\n",
       "      <th>red</th>\n",
       "      <th>yellow</th>\n",
       "    </tr>\n",
       "  </thead>\n",
       "  <tbody>\n",
       "    <tr>\n",
       "      <th>0</th>\n",
       "      <td>2 weeks</td>\n",
       "      <td>A684346</td>\n",
       "      <td>Cat</td>\n",
       "      <td>Domestic Shorthair Mix</td>\n",
       "      <td>Orange Tabby</td>\n",
       "      <td>2014-07-07T00:00:00</td>\n",
       "      <td>2014-07-22T16:04:00</td>\n",
       "      <td>2014-07-22T16:04:00</td>\n",
       "      <td>none</td>\n",
       "      <td>Partner</td>\n",
       "      <td>...</td>\n",
       "      <td>2014</td>\n",
       "      <td>Jul</td>\n",
       "      <td>0</td>\n",
       "      <td>0</td>\n",
       "      <td>0</td>\n",
       "      <td>0</td>\n",
       "      <td>1</td>\n",
       "      <td>0</td>\n",
       "      <td>0</td>\n",
       "      <td>0</td>\n",
       "    </tr>\n",
       "    <tr>\n",
       "      <th>2</th>\n",
       "      <td>1 year</td>\n",
       "      <td>A675708</td>\n",
       "      <td>Dog</td>\n",
       "      <td>Pit Bull</td>\n",
       "      <td>Blue/White</td>\n",
       "      <td>2013-03-31T00:00:00</td>\n",
       "      <td>2014-06-03T14:20:00</td>\n",
       "      <td>2014-06-03T14:20:00</td>\n",
       "      <td>*Johnny</td>\n",
       "      <td>N/A</td>\n",
       "      <td>...</td>\n",
       "      <td>2014</td>\n",
       "      <td>Jun</td>\n",
       "      <td>1</td>\n",
       "      <td>0</td>\n",
       "      <td>0</td>\n",
       "      <td>1</td>\n",
       "      <td>0</td>\n",
       "      <td>1</td>\n",
       "      <td>0</td>\n",
       "      <td>0</td>\n",
       "    </tr>\n",
       "    <tr>\n",
       "      <th>3</th>\n",
       "      <td>9 years</td>\n",
       "      <td>A680386</td>\n",
       "      <td>Dog</td>\n",
       "      <td>Miniature Schnauzer Mix</td>\n",
       "      <td>White</td>\n",
       "      <td>2005-06-02T00:00:00</td>\n",
       "      <td>2014-06-15T15:50:00</td>\n",
       "      <td>2014-06-15T15:50:00</td>\n",
       "      <td>Monday</td>\n",
       "      <td>Partner</td>\n",
       "      <td>...</td>\n",
       "      <td>2014</td>\n",
       "      <td>Jun</td>\n",
       "      <td>9</td>\n",
       "      <td>0</td>\n",
       "      <td>0</td>\n",
       "      <td>1</td>\n",
       "      <td>0</td>\n",
       "      <td>0</td>\n",
       "      <td>0</td>\n",
       "      <td>0</td>\n",
       "    </tr>\n",
       "    <tr>\n",
       "      <th>7</th>\n",
       "      <td>3 years</td>\n",
       "      <td>A692618</td>\n",
       "      <td>Dog</td>\n",
       "      <td>Chihuahua Shorthair Mix</td>\n",
       "      <td>Brown</td>\n",
       "      <td>2011-11-23T00:00:00</td>\n",
       "      <td>2014-12-08T15:55:00</td>\n",
       "      <td>2014-12-08T15:55:00</td>\n",
       "      <td>*Ella</td>\n",
       "      <td>Partner</td>\n",
       "      <td>...</td>\n",
       "      <td>2014</td>\n",
       "      <td>Dec</td>\n",
       "      <td>3</td>\n",
       "      <td>1</td>\n",
       "      <td>0</td>\n",
       "      <td>0</td>\n",
       "      <td>0</td>\n",
       "      <td>0</td>\n",
       "      <td>0</td>\n",
       "      <td>0</td>\n",
       "    </tr>\n",
       "    <tr>\n",
       "      <th>8</th>\n",
       "      <td>1 month</td>\n",
       "      <td>A685067</td>\n",
       "      <td>Cat</td>\n",
       "      <td>Domestic Shorthair Mix</td>\n",
       "      <td>Blue Tabby/White</td>\n",
       "      <td>2014-06-16T00:00:00</td>\n",
       "      <td>2014-08-14T18:45:00</td>\n",
       "      <td>2014-08-14T18:45:00</td>\n",
       "      <td>Lucy</td>\n",
       "      <td>N/A</td>\n",
       "      <td>...</td>\n",
       "      <td>2014</td>\n",
       "      <td>Aug</td>\n",
       "      <td>0</td>\n",
       "      <td>0</td>\n",
       "      <td>0</td>\n",
       "      <td>1</td>\n",
       "      <td>0</td>\n",
       "      <td>1</td>\n",
       "      <td>0</td>\n",
       "      <td>0</td>\n",
       "    </tr>\n",
       "  </tbody>\n",
       "</table>\n",
       "<p>5 rows × 22 columns</p>\n",
       "</div>"
      ],
      "text/plain": [
       "  age_upon_outcome animal_id animal_type                    breed  \\\n",
       "0          2 weeks   A684346         Cat   Domestic Shorthair Mix   \n",
       "2           1 year   A675708         Dog                 Pit Bull   \n",
       "3          9 years   A680386         Dog  Miniature Schnauzer Mix   \n",
       "7          3 years   A692618         Dog  Chihuahua Shorthair Mix   \n",
       "8          1 month   A685067         Cat   Domestic Shorthair Mix   \n",
       "\n",
       "              color        date_of_birth             datetime  \\\n",
       "0      Orange Tabby  2014-07-07T00:00:00  2014-07-22T16:04:00   \n",
       "2        Blue/White  2013-03-31T00:00:00  2014-06-03T14:20:00   \n",
       "3             White  2005-06-02T00:00:00  2014-06-15T15:50:00   \n",
       "7             Brown  2011-11-23T00:00:00  2014-12-08T15:55:00   \n",
       "8  Blue Tabby/White  2014-06-16T00:00:00  2014-08-14T18:45:00   \n",
       "\n",
       "             monthyear     name outcome_subtype  ...  year month  age_number  \\\n",
       "0  2014-07-22T16:04:00     none         Partner  ...  2014   Jul           0   \n",
       "2  2014-06-03T14:20:00  *Johnny             N/A  ...  2014   Jun           1   \n",
       "3  2014-06-15T15:50:00   Monday         Partner  ...  2014   Jun           9   \n",
       "7  2014-12-08T15:55:00    *Ella         Partner  ...  2014   Dec           3   \n",
       "8  2014-08-14T18:45:00     Lucy             N/A  ...  2014   Aug           0   \n",
       "\n",
       "  brown  black  white  orange  blue  red  yellow  \n",
       "0     0      0      0       1     0    0       0  \n",
       "2     0      0      1       0     1    0       0  \n",
       "3     0      0      1       0     0    0       0  \n",
       "7     1      0      0       0     0    0       0  \n",
       "8     0      0      1       0     1    0       0  \n",
       "\n",
       "[5 rows x 22 columns]"
      ]
     },
     "execution_count": 43,
     "metadata": {},
     "output_type": "execute_result"
    }
   ],
   "source": [
    "df.head()"
   ]
  },
  {
   "cell_type": "markdown",
   "metadata": {},
   "source": [
    "# Spay and Neutering\n",
    "\n",
    "This information actually gives two ppieces of data in one: the sex, and whether the animal was spayed or neutered. The findings here are pretty interesting:\n",
    "\n",
    "1. Adopted animals are much more likely to be spayed/neutered than in tact\n",
    "2. Males in general tended to be returned to owners more than females. Such a significant sex inmbalance did not seem to hold true for adoption or transfer.\n",
    "3. There was not as much as a disparity in transfers between intact and spayed/neutered animals as adoptions. This isn't to say that there was no difference, simply that it is not as dramatic."
   ]
  },
  {
   "cell_type": "code",
   "execution_count": 44,
   "metadata": {},
   "outputs": [
    {
     "data": {
      "text/html": [
       "<div>\n",
       "<style scoped>\n",
       "    .dataframe tbody tr th:only-of-type {\n",
       "        vertical-align: middle;\n",
       "    }\n",
       "\n",
       "    .dataframe tbody tr th {\n",
       "        vertical-align: top;\n",
       "    }\n",
       "\n",
       "    .dataframe thead th {\n",
       "        text-align: right;\n",
       "    }\n",
       "</style>\n",
       "<table border=\"1\" class=\"dataframe\">\n",
       "  <thead>\n",
       "    <tr style=\"text-align: right;\">\n",
       "      <th>sex_upon_outcome</th>\n",
       "      <th>Intact Female</th>\n",
       "      <th>Intact Male</th>\n",
       "      <th>Neutered Male</th>\n",
       "      <th>Spayed Female</th>\n",
       "      <th>Unknown</th>\n",
       "    </tr>\n",
       "    <tr>\n",
       "      <th>outcome_type</th>\n",
       "      <th></th>\n",
       "      <th></th>\n",
       "      <th></th>\n",
       "      <th></th>\n",
       "      <th></th>\n",
       "    </tr>\n",
       "  </thead>\n",
       "  <tbody>\n",
       "    <tr>\n",
       "      <th>Adoption</th>\n",
       "      <td>0.022166</td>\n",
       "      <td>0.017720</td>\n",
       "      <td>0.483565</td>\n",
       "      <td>0.476517</td>\n",
       "      <td>0.000033</td>\n",
       "    </tr>\n",
       "    <tr>\n",
       "      <th>Return to Owner</th>\n",
       "      <td>0.088586</td>\n",
       "      <td>0.141484</td>\n",
       "      <td>0.436746</td>\n",
       "      <td>0.329236</td>\n",
       "      <td>0.003949</td>\n",
       "    </tr>\n",
       "    <tr>\n",
       "      <th>Transfer</th>\n",
       "      <td>0.261035</td>\n",
       "      <td>0.241014</td>\n",
       "      <td>0.207801</td>\n",
       "      <td>0.180949</td>\n",
       "      <td>0.109201</td>\n",
       "    </tr>\n",
       "  </tbody>\n",
       "</table>\n",
       "</div>"
      ],
      "text/plain": [
       "sex_upon_outcome  Intact Female  Intact Male  Neutered Male  Spayed Female  \\\n",
       "outcome_type                                                                 \n",
       "Adoption               0.022166     0.017720       0.483565       0.476517   \n",
       "Return to Owner        0.088586     0.141484       0.436746       0.329236   \n",
       "Transfer               0.261035     0.241014       0.207801       0.180949   \n",
       "\n",
       "sex_upon_outcome   Unknown  \n",
       "outcome_type                \n",
       "Adoption          0.000033  \n",
       "Return to Owner   0.003949  \n",
       "Transfer          0.109201  "
      ]
     },
     "execution_count": 44,
     "metadata": {},
     "output_type": "execute_result"
    }
   ],
   "source": [
    "CrosstabResult=pd.crosstab(index=df['outcome_type'],columns=df['sex_upon_outcome'], normalize='index')\n",
    "\n",
    "CrosstabResult"
   ]
  },
  {
   "cell_type": "markdown",
   "metadata": {},
   "source": [
    "## Naming the Animals\n",
    "\n",
    "While I don't know that a specific name will help animal adoptability, I still think it is useful to see if the animal has a name at all. It does appear that anials with names tended to get transferred far less than animals with names."
   ]
  },
  {
   "cell_type": "code",
   "execution_count": 45,
   "metadata": {},
   "outputs": [],
   "source": [
    "df['has_name'] = np.where(df['name'] == 'none', 0, 1)"
   ]
  },
  {
   "cell_type": "code",
   "execution_count": 46,
   "metadata": {},
   "outputs": [
    {
     "data": {
      "text/html": [
       "<div>\n",
       "<style scoped>\n",
       "    .dataframe tbody tr th:only-of-type {\n",
       "        vertical-align: middle;\n",
       "    }\n",
       "\n",
       "    .dataframe tbody tr th {\n",
       "        vertical-align: top;\n",
       "    }\n",
       "\n",
       "    .dataframe thead th {\n",
       "        text-align: right;\n",
       "    }\n",
       "</style>\n",
       "<table border=\"1\" class=\"dataframe\">\n",
       "  <thead>\n",
       "    <tr style=\"text-align: right;\">\n",
       "      <th>outcome_type</th>\n",
       "      <th>Adoption</th>\n",
       "      <th>Return to Owner</th>\n",
       "      <th>Transfer</th>\n",
       "    </tr>\n",
       "    <tr>\n",
       "      <th>has_name</th>\n",
       "      <th></th>\n",
       "      <th></th>\n",
       "      <th></th>\n",
       "    </tr>\n",
       "  </thead>\n",
       "  <tbody>\n",
       "    <tr>\n",
       "      <th>0</th>\n",
       "      <td>0.302229</td>\n",
       "      <td>0.024669</td>\n",
       "      <td>0.673102</td>\n",
       "    </tr>\n",
       "    <tr>\n",
       "      <th>1</th>\n",
       "      <td>0.524373</td>\n",
       "      <td>0.269713</td>\n",
       "      <td>0.205913</td>\n",
       "    </tr>\n",
       "  </tbody>\n",
       "</table>\n",
       "</div>"
      ],
      "text/plain": [
       "outcome_type  Adoption  Return to Owner  Transfer\n",
       "has_name                                         \n",
       "0             0.302229         0.024669  0.673102\n",
       "1             0.524373         0.269713  0.205913"
      ]
     },
     "execution_count": 46,
     "metadata": {},
     "output_type": "execute_result"
    }
   ],
   "source": [
    "CrosstabResult=pd.crosstab(index=df['has_name'],columns=df['outcome_type'], normalize='index')\n",
    "\n",
    "CrosstabResult"
   ]
  },
  {
   "cell_type": "markdown",
   "metadata": {},
   "source": [
    "## Getting the Data Model Ready\n",
    "\n",
    "I now have all of the features that I want for my model. All that is left is formatting them so that they can be used. I'll use one hot encoder to tabulate any categorical information left, and then drop all of the columns from the table that will not be used. Additionally, while most of the data is simply 1 or 0, the years feature is a scale, so I will normalize the numbers so that years does not have undue influence."
   ]
  },
  {
   "cell_type": "code",
   "execution_count": 47,
   "metadata": {},
   "outputs": [],
   "source": [
    "df_category = df[['animal_type', 'sex_upon_outcome', 'month']]"
   ]
  },
  {
   "cell_type": "code",
   "execution_count": 48,
   "metadata": {},
   "outputs": [
    {
     "data": {
      "text/html": [
       "<div>\n",
       "<style scoped>\n",
       "    .dataframe tbody tr th:only-of-type {\n",
       "        vertical-align: middle;\n",
       "    }\n",
       "\n",
       "    .dataframe tbody tr th {\n",
       "        vertical-align: top;\n",
       "    }\n",
       "\n",
       "    .dataframe thead th {\n",
       "        text-align: right;\n",
       "    }\n",
       "</style>\n",
       "<table border=\"1\" class=\"dataframe\">\n",
       "  <thead>\n",
       "    <tr style=\"text-align: right;\">\n",
       "      <th></th>\n",
       "      <th>animal_type</th>\n",
       "      <th>sex_upon_outcome</th>\n",
       "      <th>month</th>\n",
       "    </tr>\n",
       "  </thead>\n",
       "  <tbody>\n",
       "    <tr>\n",
       "      <th>0</th>\n",
       "      <td>Cat</td>\n",
       "      <td>Intact Male</td>\n",
       "      <td>Jul</td>\n",
       "    </tr>\n",
       "    <tr>\n",
       "      <th>2</th>\n",
       "      <td>Dog</td>\n",
       "      <td>Neutered Male</td>\n",
       "      <td>Jun</td>\n",
       "    </tr>\n",
       "    <tr>\n",
       "      <th>3</th>\n",
       "      <td>Dog</td>\n",
       "      <td>Neutered Male</td>\n",
       "      <td>Jun</td>\n",
       "    </tr>\n",
       "    <tr>\n",
       "      <th>7</th>\n",
       "      <td>Dog</td>\n",
       "      <td>Spayed Female</td>\n",
       "      <td>Dec</td>\n",
       "    </tr>\n",
       "    <tr>\n",
       "      <th>8</th>\n",
       "      <td>Cat</td>\n",
       "      <td>Intact Female</td>\n",
       "      <td>Aug</td>\n",
       "    </tr>\n",
       "    <tr>\n",
       "      <th>...</th>\n",
       "      <td>...</td>\n",
       "      <td>...</td>\n",
       "      <td>...</td>\n",
       "    </tr>\n",
       "    <tr>\n",
       "      <th>78225</th>\n",
       "      <td>Dog</td>\n",
       "      <td>Neutered Male</td>\n",
       "      <td>Aug</td>\n",
       "    </tr>\n",
       "    <tr>\n",
       "      <th>78227</th>\n",
       "      <td>Dog</td>\n",
       "      <td>Neutered Male</td>\n",
       "      <td>Sep</td>\n",
       "    </tr>\n",
       "    <tr>\n",
       "      <th>78231</th>\n",
       "      <td>Cat</td>\n",
       "      <td>Intact Female</td>\n",
       "      <td>Dec</td>\n",
       "    </tr>\n",
       "    <tr>\n",
       "      <th>78232</th>\n",
       "      <td>Cat</td>\n",
       "      <td>Intact Male</td>\n",
       "      <td>Sep</td>\n",
       "    </tr>\n",
       "    <tr>\n",
       "      <th>78244</th>\n",
       "      <td>Dog</td>\n",
       "      <td>Spayed Female</td>\n",
       "      <td>Jul</td>\n",
       "    </tr>\n",
       "  </tbody>\n",
       "</table>\n",
       "<p>65011 rows × 3 columns</p>\n",
       "</div>"
      ],
      "text/plain": [
       "      animal_type sex_upon_outcome month\n",
       "0             Cat      Intact Male   Jul\n",
       "2             Dog    Neutered Male   Jun\n",
       "3             Dog    Neutered Male   Jun\n",
       "7             Dog    Spayed Female   Dec\n",
       "8             Cat    Intact Female   Aug\n",
       "...           ...              ...   ...\n",
       "78225         Dog    Neutered Male   Aug\n",
       "78227         Dog    Neutered Male   Sep\n",
       "78231         Cat    Intact Female   Dec\n",
       "78232         Cat      Intact Male   Sep\n",
       "78244         Dog    Spayed Female   Jul\n",
       "\n",
       "[65011 rows x 3 columns]"
      ]
     },
     "execution_count": 48,
     "metadata": {},
     "output_type": "execute_result"
    }
   ],
   "source": [
    "df_category"
   ]
  },
  {
   "cell_type": "code",
   "execution_count": 49,
   "metadata": {},
   "outputs": [],
   "source": [
    "ohe = OneHotEncoder()\n",
    "\n",
    "ohe = OneHotEncoder(sparse=False, handle_unknown='error', drop='first')\n",
    "\n",
    "cat_ohe = pd.DataFrame(ohe.fit_transform(df_category), \\\n",
    "                               columns=ohe.get_feature_names(df_category.columns) ,index=df_category.index)"
   ]
  },
  {
   "cell_type": "code",
   "execution_count": 50,
   "metadata": {},
   "outputs": [
    {
     "data": {
      "text/html": [
       "<div>\n",
       "<style scoped>\n",
       "    .dataframe tbody tr th:only-of-type {\n",
       "        vertical-align: middle;\n",
       "    }\n",
       "\n",
       "    .dataframe tbody tr th {\n",
       "        vertical-align: top;\n",
       "    }\n",
       "\n",
       "    .dataframe thead th {\n",
       "        text-align: right;\n",
       "    }\n",
       "</style>\n",
       "<table border=\"1\" class=\"dataframe\">\n",
       "  <thead>\n",
       "    <tr style=\"text-align: right;\">\n",
       "      <th></th>\n",
       "      <th>animal_type_Dog</th>\n",
       "      <th>sex_upon_outcome_Intact Male</th>\n",
       "      <th>sex_upon_outcome_Neutered Male</th>\n",
       "      <th>sex_upon_outcome_Spayed Female</th>\n",
       "      <th>sex_upon_outcome_Unknown</th>\n",
       "      <th>month_Aug</th>\n",
       "      <th>month_Dec</th>\n",
       "      <th>month_Feb</th>\n",
       "      <th>month_Jan</th>\n",
       "      <th>month_Jul</th>\n",
       "      <th>month_Jun</th>\n",
       "      <th>month_Mar</th>\n",
       "      <th>month_May</th>\n",
       "      <th>month_Nov</th>\n",
       "      <th>month_Oct</th>\n",
       "      <th>month_Sep</th>\n",
       "    </tr>\n",
       "  </thead>\n",
       "  <tbody>\n",
       "    <tr>\n",
       "      <th>0</th>\n",
       "      <td>0.0</td>\n",
       "      <td>1.0</td>\n",
       "      <td>0.0</td>\n",
       "      <td>0.0</td>\n",
       "      <td>0.0</td>\n",
       "      <td>0.0</td>\n",
       "      <td>0.0</td>\n",
       "      <td>0.0</td>\n",
       "      <td>0.0</td>\n",
       "      <td>1.0</td>\n",
       "      <td>0.0</td>\n",
       "      <td>0.0</td>\n",
       "      <td>0.0</td>\n",
       "      <td>0.0</td>\n",
       "      <td>0.0</td>\n",
       "      <td>0.0</td>\n",
       "    </tr>\n",
       "    <tr>\n",
       "      <th>2</th>\n",
       "      <td>1.0</td>\n",
       "      <td>0.0</td>\n",
       "      <td>1.0</td>\n",
       "      <td>0.0</td>\n",
       "      <td>0.0</td>\n",
       "      <td>0.0</td>\n",
       "      <td>0.0</td>\n",
       "      <td>0.0</td>\n",
       "      <td>0.0</td>\n",
       "      <td>0.0</td>\n",
       "      <td>1.0</td>\n",
       "      <td>0.0</td>\n",
       "      <td>0.0</td>\n",
       "      <td>0.0</td>\n",
       "      <td>0.0</td>\n",
       "      <td>0.0</td>\n",
       "    </tr>\n",
       "    <tr>\n",
       "      <th>3</th>\n",
       "      <td>1.0</td>\n",
       "      <td>0.0</td>\n",
       "      <td>1.0</td>\n",
       "      <td>0.0</td>\n",
       "      <td>0.0</td>\n",
       "      <td>0.0</td>\n",
       "      <td>0.0</td>\n",
       "      <td>0.0</td>\n",
       "      <td>0.0</td>\n",
       "      <td>0.0</td>\n",
       "      <td>1.0</td>\n",
       "      <td>0.0</td>\n",
       "      <td>0.0</td>\n",
       "      <td>0.0</td>\n",
       "      <td>0.0</td>\n",
       "      <td>0.0</td>\n",
       "    </tr>\n",
       "    <tr>\n",
       "      <th>7</th>\n",
       "      <td>1.0</td>\n",
       "      <td>0.0</td>\n",
       "      <td>0.0</td>\n",
       "      <td>1.0</td>\n",
       "      <td>0.0</td>\n",
       "      <td>0.0</td>\n",
       "      <td>1.0</td>\n",
       "      <td>0.0</td>\n",
       "      <td>0.0</td>\n",
       "      <td>0.0</td>\n",
       "      <td>0.0</td>\n",
       "      <td>0.0</td>\n",
       "      <td>0.0</td>\n",
       "      <td>0.0</td>\n",
       "      <td>0.0</td>\n",
       "      <td>0.0</td>\n",
       "    </tr>\n",
       "    <tr>\n",
       "      <th>8</th>\n",
       "      <td>0.0</td>\n",
       "      <td>0.0</td>\n",
       "      <td>0.0</td>\n",
       "      <td>0.0</td>\n",
       "      <td>0.0</td>\n",
       "      <td>1.0</td>\n",
       "      <td>0.0</td>\n",
       "      <td>0.0</td>\n",
       "      <td>0.0</td>\n",
       "      <td>0.0</td>\n",
       "      <td>0.0</td>\n",
       "      <td>0.0</td>\n",
       "      <td>0.0</td>\n",
       "      <td>0.0</td>\n",
       "      <td>0.0</td>\n",
       "      <td>0.0</td>\n",
       "    </tr>\n",
       "    <tr>\n",
       "      <th>...</th>\n",
       "      <td>...</td>\n",
       "      <td>...</td>\n",
       "      <td>...</td>\n",
       "      <td>...</td>\n",
       "      <td>...</td>\n",
       "      <td>...</td>\n",
       "      <td>...</td>\n",
       "      <td>...</td>\n",
       "      <td>...</td>\n",
       "      <td>...</td>\n",
       "      <td>...</td>\n",
       "      <td>...</td>\n",
       "      <td>...</td>\n",
       "      <td>...</td>\n",
       "      <td>...</td>\n",
       "      <td>...</td>\n",
       "    </tr>\n",
       "    <tr>\n",
       "      <th>78225</th>\n",
       "      <td>1.0</td>\n",
       "      <td>0.0</td>\n",
       "      <td>1.0</td>\n",
       "      <td>0.0</td>\n",
       "      <td>0.0</td>\n",
       "      <td>1.0</td>\n",
       "      <td>0.0</td>\n",
       "      <td>0.0</td>\n",
       "      <td>0.0</td>\n",
       "      <td>0.0</td>\n",
       "      <td>0.0</td>\n",
       "      <td>0.0</td>\n",
       "      <td>0.0</td>\n",
       "      <td>0.0</td>\n",
       "      <td>0.0</td>\n",
       "      <td>0.0</td>\n",
       "    </tr>\n",
       "    <tr>\n",
       "      <th>78227</th>\n",
       "      <td>1.0</td>\n",
       "      <td>0.0</td>\n",
       "      <td>1.0</td>\n",
       "      <td>0.0</td>\n",
       "      <td>0.0</td>\n",
       "      <td>0.0</td>\n",
       "      <td>0.0</td>\n",
       "      <td>0.0</td>\n",
       "      <td>0.0</td>\n",
       "      <td>0.0</td>\n",
       "      <td>0.0</td>\n",
       "      <td>0.0</td>\n",
       "      <td>0.0</td>\n",
       "      <td>0.0</td>\n",
       "      <td>0.0</td>\n",
       "      <td>1.0</td>\n",
       "    </tr>\n",
       "    <tr>\n",
       "      <th>78231</th>\n",
       "      <td>0.0</td>\n",
       "      <td>0.0</td>\n",
       "      <td>0.0</td>\n",
       "      <td>0.0</td>\n",
       "      <td>0.0</td>\n",
       "      <td>0.0</td>\n",
       "      <td>1.0</td>\n",
       "      <td>0.0</td>\n",
       "      <td>0.0</td>\n",
       "      <td>0.0</td>\n",
       "      <td>0.0</td>\n",
       "      <td>0.0</td>\n",
       "      <td>0.0</td>\n",
       "      <td>0.0</td>\n",
       "      <td>0.0</td>\n",
       "      <td>0.0</td>\n",
       "    </tr>\n",
       "    <tr>\n",
       "      <th>78232</th>\n",
       "      <td>0.0</td>\n",
       "      <td>1.0</td>\n",
       "      <td>0.0</td>\n",
       "      <td>0.0</td>\n",
       "      <td>0.0</td>\n",
       "      <td>0.0</td>\n",
       "      <td>0.0</td>\n",
       "      <td>0.0</td>\n",
       "      <td>0.0</td>\n",
       "      <td>0.0</td>\n",
       "      <td>0.0</td>\n",
       "      <td>0.0</td>\n",
       "      <td>0.0</td>\n",
       "      <td>0.0</td>\n",
       "      <td>0.0</td>\n",
       "      <td>1.0</td>\n",
       "    </tr>\n",
       "    <tr>\n",
       "      <th>78244</th>\n",
       "      <td>1.0</td>\n",
       "      <td>0.0</td>\n",
       "      <td>0.0</td>\n",
       "      <td>1.0</td>\n",
       "      <td>0.0</td>\n",
       "      <td>0.0</td>\n",
       "      <td>0.0</td>\n",
       "      <td>0.0</td>\n",
       "      <td>0.0</td>\n",
       "      <td>1.0</td>\n",
       "      <td>0.0</td>\n",
       "      <td>0.0</td>\n",
       "      <td>0.0</td>\n",
       "      <td>0.0</td>\n",
       "      <td>0.0</td>\n",
       "      <td>0.0</td>\n",
       "    </tr>\n",
       "  </tbody>\n",
       "</table>\n",
       "<p>65011 rows × 16 columns</p>\n",
       "</div>"
      ],
      "text/plain": [
       "       animal_type_Dog  sex_upon_outcome_Intact Male  \\\n",
       "0                  0.0                           1.0   \n",
       "2                  1.0                           0.0   \n",
       "3                  1.0                           0.0   \n",
       "7                  1.0                           0.0   \n",
       "8                  0.0                           0.0   \n",
       "...                ...                           ...   \n",
       "78225              1.0                           0.0   \n",
       "78227              1.0                           0.0   \n",
       "78231              0.0                           0.0   \n",
       "78232              0.0                           1.0   \n",
       "78244              1.0                           0.0   \n",
       "\n",
       "       sex_upon_outcome_Neutered Male  sex_upon_outcome_Spayed Female  \\\n",
       "0                                 0.0                             0.0   \n",
       "2                                 1.0                             0.0   \n",
       "3                                 1.0                             0.0   \n",
       "7                                 0.0                             1.0   \n",
       "8                                 0.0                             0.0   \n",
       "...                               ...                             ...   \n",
       "78225                             1.0                             0.0   \n",
       "78227                             1.0                             0.0   \n",
       "78231                             0.0                             0.0   \n",
       "78232                             0.0                             0.0   \n",
       "78244                             0.0                             1.0   \n",
       "\n",
       "       sex_upon_outcome_Unknown  month_Aug  month_Dec  month_Feb  month_Jan  \\\n",
       "0                           0.0        0.0        0.0        0.0        0.0   \n",
       "2                           0.0        0.0        0.0        0.0        0.0   \n",
       "3                           0.0        0.0        0.0        0.0        0.0   \n",
       "7                           0.0        0.0        1.0        0.0        0.0   \n",
       "8                           0.0        1.0        0.0        0.0        0.0   \n",
       "...                         ...        ...        ...        ...        ...   \n",
       "78225                       0.0        1.0        0.0        0.0        0.0   \n",
       "78227                       0.0        0.0        0.0        0.0        0.0   \n",
       "78231                       0.0        0.0        1.0        0.0        0.0   \n",
       "78232                       0.0        0.0        0.0        0.0        0.0   \n",
       "78244                       0.0        0.0        0.0        0.0        0.0   \n",
       "\n",
       "       month_Jul  month_Jun  month_Mar  month_May  month_Nov  month_Oct  \\\n",
       "0            1.0        0.0        0.0        0.0        0.0        0.0   \n",
       "2            0.0        1.0        0.0        0.0        0.0        0.0   \n",
       "3            0.0        1.0        0.0        0.0        0.0        0.0   \n",
       "7            0.0        0.0        0.0        0.0        0.0        0.0   \n",
       "8            0.0        0.0        0.0        0.0        0.0        0.0   \n",
       "...          ...        ...        ...        ...        ...        ...   \n",
       "78225        0.0        0.0        0.0        0.0        0.0        0.0   \n",
       "78227        0.0        0.0        0.0        0.0        0.0        0.0   \n",
       "78231        0.0        0.0        0.0        0.0        0.0        0.0   \n",
       "78232        0.0        0.0        0.0        0.0        0.0        0.0   \n",
       "78244        1.0        0.0        0.0        0.0        0.0        0.0   \n",
       "\n",
       "       month_Sep  \n",
       "0            0.0  \n",
       "2            0.0  \n",
       "3            0.0  \n",
       "7            0.0  \n",
       "8            0.0  \n",
       "...          ...  \n",
       "78225        0.0  \n",
       "78227        1.0  \n",
       "78231        0.0  \n",
       "78232        1.0  \n",
       "78244        0.0  \n",
       "\n",
       "[65011 rows x 16 columns]"
      ]
     },
     "execution_count": 50,
     "metadata": {},
     "output_type": "execute_result"
    }
   ],
   "source": [
    "cat_ohe"
   ]
  },
  {
   "cell_type": "code",
   "execution_count": 51,
   "metadata": {},
   "outputs": [],
   "source": [
    "df = pd.concat([df, cat_ohe], axis=1)"
   ]
  },
  {
   "cell_type": "code",
   "execution_count": 52,
   "metadata": {},
   "outputs": [
    {
     "name": "stdout",
     "output_type": "stream",
     "text": [
      "<class 'pandas.core.frame.DataFrame'>\n",
      "Int64Index: 65011 entries, 0 to 78244\n",
      "Data columns (total 39 columns):\n",
      " #   Column                          Non-Null Count  Dtype  \n",
      "---  ------                          --------------  -----  \n",
      " 0   age_upon_outcome                65011 non-null  object \n",
      " 1   animal_id                       65011 non-null  object \n",
      " 2   animal_type                     65011 non-null  object \n",
      " 3   breed                           65011 non-null  object \n",
      " 4   color                           65011 non-null  object \n",
      " 5   date_of_birth                   65011 non-null  object \n",
      " 6   datetime                        65011 non-null  object \n",
      " 7   monthyear                       65011 non-null  object \n",
      " 8   name                            65011 non-null  object \n",
      " 9   outcome_subtype                 65011 non-null  object \n",
      " 10  outcome_type                    65011 non-null  object \n",
      " 11  sex_upon_outcome                65011 non-null  object \n",
      " 12  year                            65011 non-null  int64  \n",
      " 13  month                           65011 non-null  object \n",
      " 14  age_number                      65011 non-null  int64  \n",
      " 15  brown                           65011 non-null  int64  \n",
      " 16  black                           65011 non-null  int64  \n",
      " 17  white                           65011 non-null  int64  \n",
      " 18  orange                          65011 non-null  int64  \n",
      " 19  blue                            65011 non-null  int64  \n",
      " 20  red                             65011 non-null  int64  \n",
      " 21  yellow                          65011 non-null  int64  \n",
      " 22  has_name                        65011 non-null  int64  \n",
      " 23  animal_type_Dog                 65011 non-null  float64\n",
      " 24  sex_upon_outcome_Intact Male    65011 non-null  float64\n",
      " 25  sex_upon_outcome_Neutered Male  65011 non-null  float64\n",
      " 26  sex_upon_outcome_Spayed Female  65011 non-null  float64\n",
      " 27  sex_upon_outcome_Unknown        65011 non-null  float64\n",
      " 28  month_Aug                       65011 non-null  float64\n",
      " 29  month_Dec                       65011 non-null  float64\n",
      " 30  month_Feb                       65011 non-null  float64\n",
      " 31  month_Jan                       65011 non-null  float64\n",
      " 32  month_Jul                       65011 non-null  float64\n",
      " 33  month_Jun                       65011 non-null  float64\n",
      " 34  month_Mar                       65011 non-null  float64\n",
      " 35  month_May                       65011 non-null  float64\n",
      " 36  month_Nov                       65011 non-null  float64\n",
      " 37  month_Oct                       65011 non-null  float64\n",
      " 38  month_Sep                       65011 non-null  float64\n",
      "dtypes: float64(16), int64(10), object(13)\n",
      "memory usage: 22.3+ MB\n"
     ]
    }
   ],
   "source": [
    "df.info()"
   ]
  },
  {
   "cell_type": "code",
   "execution_count": 53,
   "metadata": {},
   "outputs": [],
   "source": [
    "x_data = df.select_dtypes(exclude=['object'])\n",
    "y_data = df['outcome_type']"
   ]
  },
  {
   "cell_type": "code",
   "execution_count": 54,
   "metadata": {},
   "outputs": [
    {
     "data": {
      "text/html": [
       "<div>\n",
       "<style scoped>\n",
       "    .dataframe tbody tr th:only-of-type {\n",
       "        vertical-align: middle;\n",
       "    }\n",
       "\n",
       "    .dataframe tbody tr th {\n",
       "        vertical-align: top;\n",
       "    }\n",
       "\n",
       "    .dataframe thead th {\n",
       "        text-align: right;\n",
       "    }\n",
       "</style>\n",
       "<table border=\"1\" class=\"dataframe\">\n",
       "  <thead>\n",
       "    <tr style=\"text-align: right;\">\n",
       "      <th></th>\n",
       "      <th>year</th>\n",
       "      <th>age_number</th>\n",
       "      <th>brown</th>\n",
       "      <th>black</th>\n",
       "      <th>white</th>\n",
       "      <th>orange</th>\n",
       "      <th>blue</th>\n",
       "      <th>red</th>\n",
       "      <th>yellow</th>\n",
       "      <th>has_name</th>\n",
       "      <th>...</th>\n",
       "      <th>month_Dec</th>\n",
       "      <th>month_Feb</th>\n",
       "      <th>month_Jan</th>\n",
       "      <th>month_Jul</th>\n",
       "      <th>month_Jun</th>\n",
       "      <th>month_Mar</th>\n",
       "      <th>month_May</th>\n",
       "      <th>month_Nov</th>\n",
       "      <th>month_Oct</th>\n",
       "      <th>month_Sep</th>\n",
       "    </tr>\n",
       "  </thead>\n",
       "  <tbody>\n",
       "    <tr>\n",
       "      <th>0</th>\n",
       "      <td>2014</td>\n",
       "      <td>0</td>\n",
       "      <td>0</td>\n",
       "      <td>0</td>\n",
       "      <td>0</td>\n",
       "      <td>1</td>\n",
       "      <td>0</td>\n",
       "      <td>0</td>\n",
       "      <td>0</td>\n",
       "      <td>0</td>\n",
       "      <td>...</td>\n",
       "      <td>0.0</td>\n",
       "      <td>0.0</td>\n",
       "      <td>0.0</td>\n",
       "      <td>1.0</td>\n",
       "      <td>0.0</td>\n",
       "      <td>0.0</td>\n",
       "      <td>0.0</td>\n",
       "      <td>0.0</td>\n",
       "      <td>0.0</td>\n",
       "      <td>0.0</td>\n",
       "    </tr>\n",
       "    <tr>\n",
       "      <th>2</th>\n",
       "      <td>2014</td>\n",
       "      <td>1</td>\n",
       "      <td>0</td>\n",
       "      <td>0</td>\n",
       "      <td>1</td>\n",
       "      <td>0</td>\n",
       "      <td>1</td>\n",
       "      <td>0</td>\n",
       "      <td>0</td>\n",
       "      <td>1</td>\n",
       "      <td>...</td>\n",
       "      <td>0.0</td>\n",
       "      <td>0.0</td>\n",
       "      <td>0.0</td>\n",
       "      <td>0.0</td>\n",
       "      <td>1.0</td>\n",
       "      <td>0.0</td>\n",
       "      <td>0.0</td>\n",
       "      <td>0.0</td>\n",
       "      <td>0.0</td>\n",
       "      <td>0.0</td>\n",
       "    </tr>\n",
       "    <tr>\n",
       "      <th>3</th>\n",
       "      <td>2014</td>\n",
       "      <td>9</td>\n",
       "      <td>0</td>\n",
       "      <td>0</td>\n",
       "      <td>1</td>\n",
       "      <td>0</td>\n",
       "      <td>0</td>\n",
       "      <td>0</td>\n",
       "      <td>0</td>\n",
       "      <td>1</td>\n",
       "      <td>...</td>\n",
       "      <td>0.0</td>\n",
       "      <td>0.0</td>\n",
       "      <td>0.0</td>\n",
       "      <td>0.0</td>\n",
       "      <td>1.0</td>\n",
       "      <td>0.0</td>\n",
       "      <td>0.0</td>\n",
       "      <td>0.0</td>\n",
       "      <td>0.0</td>\n",
       "      <td>0.0</td>\n",
       "    </tr>\n",
       "    <tr>\n",
       "      <th>7</th>\n",
       "      <td>2014</td>\n",
       "      <td>3</td>\n",
       "      <td>1</td>\n",
       "      <td>0</td>\n",
       "      <td>0</td>\n",
       "      <td>0</td>\n",
       "      <td>0</td>\n",
       "      <td>0</td>\n",
       "      <td>0</td>\n",
       "      <td>1</td>\n",
       "      <td>...</td>\n",
       "      <td>1.0</td>\n",
       "      <td>0.0</td>\n",
       "      <td>0.0</td>\n",
       "      <td>0.0</td>\n",
       "      <td>0.0</td>\n",
       "      <td>0.0</td>\n",
       "      <td>0.0</td>\n",
       "      <td>0.0</td>\n",
       "      <td>0.0</td>\n",
       "      <td>0.0</td>\n",
       "    </tr>\n",
       "    <tr>\n",
       "      <th>8</th>\n",
       "      <td>2014</td>\n",
       "      <td>0</td>\n",
       "      <td>0</td>\n",
       "      <td>0</td>\n",
       "      <td>1</td>\n",
       "      <td>0</td>\n",
       "      <td>1</td>\n",
       "      <td>0</td>\n",
       "      <td>0</td>\n",
       "      <td>1</td>\n",
       "      <td>...</td>\n",
       "      <td>0.0</td>\n",
       "      <td>0.0</td>\n",
       "      <td>0.0</td>\n",
       "      <td>0.0</td>\n",
       "      <td>0.0</td>\n",
       "      <td>0.0</td>\n",
       "      <td>0.0</td>\n",
       "      <td>0.0</td>\n",
       "      <td>0.0</td>\n",
       "      <td>0.0</td>\n",
       "    </tr>\n",
       "  </tbody>\n",
       "</table>\n",
       "<p>5 rows × 26 columns</p>\n",
       "</div>"
      ],
      "text/plain": [
       "   year  age_number  brown  black  white  orange  blue  red  yellow  has_name  \\\n",
       "0  2014           0      0      0      0       1     0    0       0         0   \n",
       "2  2014           1      0      0      1       0     1    0       0         1   \n",
       "3  2014           9      0      0      1       0     0    0       0         1   \n",
       "7  2014           3      1      0      0       0     0    0       0         1   \n",
       "8  2014           0      0      0      1       0     1    0       0         1   \n",
       "\n",
       "   ...  month_Dec  month_Feb  month_Jan  month_Jul  month_Jun  month_Mar  \\\n",
       "0  ...        0.0        0.0        0.0        1.0        0.0        0.0   \n",
       "2  ...        0.0        0.0        0.0        0.0        1.0        0.0   \n",
       "3  ...        0.0        0.0        0.0        0.0        1.0        0.0   \n",
       "7  ...        1.0        0.0        0.0        0.0        0.0        0.0   \n",
       "8  ...        0.0        0.0        0.0        0.0        0.0        0.0   \n",
       "\n",
       "   month_May  month_Nov  month_Oct  month_Sep  \n",
       "0        0.0        0.0        0.0        0.0  \n",
       "2        0.0        0.0        0.0        0.0  \n",
       "3        0.0        0.0        0.0        0.0  \n",
       "7        0.0        0.0        0.0        0.0  \n",
       "8        0.0        0.0        0.0        0.0  \n",
       "\n",
       "[5 rows x 26 columns]"
      ]
     },
     "execution_count": 54,
     "metadata": {},
     "output_type": "execute_result"
    }
   ],
   "source": [
    "x_data.head()"
   ]
  },
  {
   "cell_type": "code",
   "execution_count": 55,
   "metadata": {},
   "outputs": [
    {
     "name": "stderr",
     "output_type": "stream",
     "text": [
      "/Users/georgeferre/opt/anaconda3/envs/learn-env/lib/python3.8/site-packages/pandas/core/frame.py:4163: SettingWithCopyWarning: \n",
      "A value is trying to be set on a copy of a slice from a DataFrame\n",
      "\n",
      "See the caveats in the documentation: https://pandas.pydata.org/pandas-docs/stable/user_guide/indexing.html#returning-a-view-versus-a-copy\n",
      "  return super().drop(\n"
     ]
    }
   ],
   "source": [
    "x_data.drop(columns=['year'], inplace=True)"
   ]
  },
  {
   "cell_type": "code",
   "execution_count": 56,
   "metadata": {},
   "outputs": [],
   "source": [
    "x_normalized = Normalizer().fit_transform(x_data)"
   ]
  },
  {
   "cell_type": "markdown",
   "metadata": {},
   "source": [
    "## Building Models\n",
    "\n",
    "First I will split the data and build a model based on all of my features. In training, I had 77% accuracy, with 65% accuracy on test data, suggesting some overfitting. The confusion matrix seems to heavily rely on guessing adoption, and is more incorrect than correct in predicting Return to Owner.\n",
    "\n",
    "Looking at the feature importance, It appears that month of outcome and animal colors are not significant factors in the model, and by removing them the model is improved. The new model has a testing score of 70% with a testing score of 68%. This means that it is both more accurate and less prone to overfitting."
   ]
  },
  {
   "cell_type": "code",
   "execution_count": 57,
   "metadata": {},
   "outputs": [
    {
     "data": {
      "text/plain": [
       "DecisionTreeClassifier()"
      ]
     },
     "execution_count": 57,
     "metadata": {},
     "output_type": "execute_result"
    }
   ],
   "source": [
    "X_train, X_test, y_train, y_test = train_test_split(x_normalized, y_data,test_size=0.2, random_state = 1)\n",
    "dt_clf = DecisionTreeClassifier()\n",
    "dt_clf.fit(X_train,y_train)"
   ]
  },
  {
   "cell_type": "code",
   "execution_count": 58,
   "metadata": {},
   "outputs": [
    {
     "data": {
      "text/plain": [
       "0.7705929856945085"
      ]
     },
     "execution_count": 58,
     "metadata": {},
     "output_type": "execute_result"
    }
   ],
   "source": [
    "dt_clf.score(X_train, y_train)"
   ]
  },
  {
   "cell_type": "code",
   "execution_count": 59,
   "metadata": {},
   "outputs": [
    {
     "data": {
      "text/plain": [
       "0.6521571944935785"
      ]
     },
     "execution_count": 59,
     "metadata": {},
     "output_type": "execute_result"
    }
   ],
   "source": [
    "dt_clf.score(X_test, y_test)"
   ]
  },
  {
   "cell_type": "code",
   "execution_count": 60,
   "metadata": {},
   "outputs": [
    {
     "data": {
      "image/png": "[encoded data removed]",
      "text/plain": [
       "<Figure size 432x288 with 2 Axes>"
      ]
     },
     "metadata": {
      "needs_background": "light"
     },
     "output_type": "display_data"
    }
   ],
   "source": [
    "plot_confusion_matrix(dt_clf,X_test,y_test);"
   ]
  },
  {
   "cell_type": "code",
   "execution_count": 61,
   "metadata": {},
   "outputs": [
    {
     "name": "stdout",
     "output_type": "stream",
     "text": [
      "0.1358769256439741 age_number\n",
      "0.025032365620941036 brown\n",
      "0.02871426837176936 black\n",
      "0.028308975306053658 white\n",
      "0.0093543781394488 orange\n",
      "0.017838575015027662 blue\n",
      "0.013178949347736618 red\n",
      "0.005536399699515344 yellow\n",
      "0.2165798733505297 has_name\n",
      "0.05759490673769603 animal_type_Dog\n",
      "0.062254802191192664 sex_upon_outcome_Intact Male\n",
      "0.11816664776166098 sex_upon_outcome_Neutered Male\n",
      "0.13116495724223398 sex_upon_outcome_Spayed Female\n",
      "0.0029570277088418356 sex_upon_outcome_Unknown\n",
      "0.014242949325265614 month_Aug\n",
      "0.014107944739309026 month_Dec\n",
      "0.013436927469651958 month_Feb\n",
      "0.013695086889320954 month_Jan\n",
      "0.011734701675619198 month_Jul\n",
      "0.013462957994140755 month_Jun\n",
      "0.011569835758992208 month_Mar\n",
      "0.014989318967712526 month_May\n",
      "0.013148472774190977 month_Nov\n",
      "0.013337191420569912 month_Oct\n",
      "0.013715560848604943 month_Sep\n"
     ]
    }
   ],
   "source": [
    "for fi, feature in zip(dt_clf.feature_importances_, x_data.columns):\n",
    "    print(fi, feature)"
   ]
  },
  {
   "cell_type": "code",
   "execution_count": 62,
   "metadata": {},
   "outputs": [],
   "source": [
    "df_stripped = df[['age_number', 'animal_type_Dog', 'sex_upon_outcome_Intact Male', \\\n",
    "                  'sex_upon_outcome_Neutered Male', 'sex_upon_outcome_Spayed Female', \\\n",
    "                  'sex_upon_outcome_Unknown', 'has_name']]"
   ]
  },
  {
   "cell_type": "code",
   "execution_count": 63,
   "metadata": {},
   "outputs": [
    {
     "data": {
      "text/html": [
       "<div>\n",
       "<style scoped>\n",
       "    .dataframe tbody tr th:only-of-type {\n",
       "        vertical-align: middle;\n",
       "    }\n",
       "\n",
       "    .dataframe tbody tr th {\n",
       "        vertical-align: top;\n",
       "    }\n",
       "\n",
       "    .dataframe thead th {\n",
       "        text-align: right;\n",
       "    }\n",
       "</style>\n",
       "<table border=\"1\" class=\"dataframe\">\n",
       "  <thead>\n",
       "    <tr style=\"text-align: right;\">\n",
       "      <th></th>\n",
       "      <th>age_number</th>\n",
       "      <th>animal_type_Dog</th>\n",
       "      <th>sex_upon_outcome_Intact Male</th>\n",
       "      <th>sex_upon_outcome_Neutered Male</th>\n",
       "      <th>sex_upon_outcome_Spayed Female</th>\n",
       "      <th>sex_upon_outcome_Unknown</th>\n",
       "      <th>has_name</th>\n",
       "    </tr>\n",
       "  </thead>\n",
       "  <tbody>\n",
       "    <tr>\n",
       "      <th>0</th>\n",
       "      <td>0</td>\n",
       "      <td>0.0</td>\n",
       "      <td>1.0</td>\n",
       "      <td>0.0</td>\n",
       "      <td>0.0</td>\n",
       "      <td>0.0</td>\n",
       "      <td>0</td>\n",
       "    </tr>\n",
       "    <tr>\n",
       "      <th>2</th>\n",
       "      <td>1</td>\n",
       "      <td>1.0</td>\n",
       "      <td>0.0</td>\n",
       "      <td>1.0</td>\n",
       "      <td>0.0</td>\n",
       "      <td>0.0</td>\n",
       "      <td>1</td>\n",
       "    </tr>\n",
       "    <tr>\n",
       "      <th>3</th>\n",
       "      <td>9</td>\n",
       "      <td>1.0</td>\n",
       "      <td>0.0</td>\n",
       "      <td>1.0</td>\n",
       "      <td>0.0</td>\n",
       "      <td>0.0</td>\n",
       "      <td>1</td>\n",
       "    </tr>\n",
       "    <tr>\n",
       "      <th>7</th>\n",
       "      <td>3</td>\n",
       "      <td>1.0</td>\n",
       "      <td>0.0</td>\n",
       "      <td>0.0</td>\n",
       "      <td>1.0</td>\n",
       "      <td>0.0</td>\n",
       "      <td>1</td>\n",
       "    </tr>\n",
       "    <tr>\n",
       "      <th>8</th>\n",
       "      <td>0</td>\n",
       "      <td>0.0</td>\n",
       "      <td>0.0</td>\n",
       "      <td>0.0</td>\n",
       "      <td>0.0</td>\n",
       "      <td>0.0</td>\n",
       "      <td>1</td>\n",
       "    </tr>\n",
       "    <tr>\n",
       "      <th>...</th>\n",
       "      <td>...</td>\n",
       "      <td>...</td>\n",
       "      <td>...</td>\n",
       "      <td>...</td>\n",
       "      <td>...</td>\n",
       "      <td>...</td>\n",
       "      <td>...</td>\n",
       "    </tr>\n",
       "    <tr>\n",
       "      <th>78225</th>\n",
       "      <td>2</td>\n",
       "      <td>1.0</td>\n",
       "      <td>0.0</td>\n",
       "      <td>1.0</td>\n",
       "      <td>0.0</td>\n",
       "      <td>0.0</td>\n",
       "      <td>1</td>\n",
       "    </tr>\n",
       "    <tr>\n",
       "      <th>78227</th>\n",
       "      <td>2</td>\n",
       "      <td>1.0</td>\n",
       "      <td>0.0</td>\n",
       "      <td>1.0</td>\n",
       "      <td>0.0</td>\n",
       "      <td>0.0</td>\n",
       "      <td>1</td>\n",
       "    </tr>\n",
       "    <tr>\n",
       "      <th>78231</th>\n",
       "      <td>0</td>\n",
       "      <td>0.0</td>\n",
       "      <td>0.0</td>\n",
       "      <td>0.0</td>\n",
       "      <td>0.0</td>\n",
       "      <td>0.0</td>\n",
       "      <td>1</td>\n",
       "    </tr>\n",
       "    <tr>\n",
       "      <th>78232</th>\n",
       "      <td>0</td>\n",
       "      <td>0.0</td>\n",
       "      <td>1.0</td>\n",
       "      <td>0.0</td>\n",
       "      <td>0.0</td>\n",
       "      <td>0.0</td>\n",
       "      <td>1</td>\n",
       "    </tr>\n",
       "    <tr>\n",
       "      <th>78244</th>\n",
       "      <td>0</td>\n",
       "      <td>1.0</td>\n",
       "      <td>0.0</td>\n",
       "      <td>0.0</td>\n",
       "      <td>1.0</td>\n",
       "      <td>0.0</td>\n",
       "      <td>1</td>\n",
       "    </tr>\n",
       "  </tbody>\n",
       "</table>\n",
       "<p>65011 rows × 7 columns</p>\n",
       "</div>"
      ],
      "text/plain": [
       "       age_number  animal_type_Dog  sex_upon_outcome_Intact Male  \\\n",
       "0               0              0.0                           1.0   \n",
       "2               1              1.0                           0.0   \n",
       "3               9              1.0                           0.0   \n",
       "7               3              1.0                           0.0   \n",
       "8               0              0.0                           0.0   \n",
       "...           ...              ...                           ...   \n",
       "78225           2              1.0                           0.0   \n",
       "78227           2              1.0                           0.0   \n",
       "78231           0              0.0                           0.0   \n",
       "78232           0              0.0                           1.0   \n",
       "78244           0              1.0                           0.0   \n",
       "\n",
       "       sex_upon_outcome_Neutered Male  sex_upon_outcome_Spayed Female  \\\n",
       "0                                 0.0                             0.0   \n",
       "2                                 1.0                             0.0   \n",
       "3                                 1.0                             0.0   \n",
       "7                                 0.0                             1.0   \n",
       "8                                 0.0                             0.0   \n",
       "...                               ...                             ...   \n",
       "78225                             1.0                             0.0   \n",
       "78227                             1.0                             0.0   \n",
       "78231                             0.0                             0.0   \n",
       "78232                             0.0                             0.0   \n",
       "78244                             0.0                             1.0   \n",
       "\n",
       "       sex_upon_outcome_Unknown  has_name  \n",
       "0                           0.0         0  \n",
       "2                           0.0         1  \n",
       "3                           0.0         1  \n",
       "7                           0.0         1  \n",
       "8                           0.0         1  \n",
       "...                         ...       ...  \n",
       "78225                       0.0         1  \n",
       "78227                       0.0         1  \n",
       "78231                       0.0         1  \n",
       "78232                       0.0         1  \n",
       "78244                       0.0         1  \n",
       "\n",
       "[65011 rows x 7 columns]"
      ]
     },
     "execution_count": 63,
     "metadata": {},
     "output_type": "execute_result"
    }
   ],
   "source": [
    "df_stripped"
   ]
  },
  {
   "cell_type": "code",
   "execution_count": 64,
   "metadata": {},
   "outputs": [],
   "source": [
    "x_stripped_normalized = Normalizer().fit_transform(df_stripped)"
   ]
  },
  {
   "cell_type": "code",
   "execution_count": 65,
   "metadata": {},
   "outputs": [
    {
     "data": {
      "text/plain": [
       "DecisionTreeClassifier()"
      ]
     },
     "execution_count": 65,
     "metadata": {},
     "output_type": "execute_result"
    }
   ],
   "source": [
    "X_train, X_test, y_train, y_test = train_test_split(x_stripped_normalized, y_data,test_size=0.2, random_state = 1)\n",
    "dt_clf = DecisionTreeClassifier()\n",
    "dt_clf.fit(X_train,y_train)"
   ]
  },
  {
   "cell_type": "code",
   "execution_count": 66,
   "metadata": {},
   "outputs": [
    {
     "data": {
      "text/plain": [
       "0.6977003537917243"
      ]
     },
     "execution_count": 66,
     "metadata": {},
     "output_type": "execute_result"
    }
   ],
   "source": [
    "dt_clf.score(X_train, y_train)"
   ]
  },
  {
   "cell_type": "code",
   "execution_count": 67,
   "metadata": {},
   "outputs": [
    {
     "data": {
      "image/png": "[encoded data removed]",
      "text/plain": [
       "<Figure size 432x288 with 2 Axes>"
      ]
     },
     "metadata": {
      "needs_background": "light"
     },
     "output_type": "display_data"
    }
   ],
   "source": [
    "plot_confusion_matrix(dt_clf,X_test,y_test);"
   ]
  },
  {
   "cell_type": "code",
   "execution_count": 68,
   "metadata": {},
   "outputs": [
    {
     "name": "stdout",
     "output_type": "stream",
     "text": [
      "0.18429840549292514 age_number\n",
      "0.10342524257088836 animal_type_Dog\n",
      "0.09318251429671398 sex_upon_outcome_Intact Male\n",
      "0.12600712350385454 sex_upon_outcome_Neutered Male\n",
      "0.16192351432830152 sex_upon_outcome_Spayed Female\n",
      "0.005988050996047241 sex_upon_outcome_Unknown\n",
      "0.3251751488112691 has_name\n"
     ]
    }
   ],
   "source": [
    "for fi, feature in zip(dt_clf.feature_importances_, df_stripped.columns):\n",
    "    print(fi, feature)"
   ]
  },
  {
   "cell_type": "code",
   "execution_count": 69,
   "metadata": {},
   "outputs": [
    {
     "data": {
      "text/plain": [
       "0.684226716911482"
      ]
     },
     "execution_count": 69,
     "metadata": {},
     "output_type": "execute_result"
    }
   ],
   "source": [
    "dt_clf.score(X_test, y_test)"
   ]
  },
  {
   "cell_type": "markdown",
   "metadata": {},
   "source": [
    "## Conclusion\n",
    "\n",
    "It appears that when determining the outcome for an animal, we should look at the following:\n",
    "\n",
    "1. What kind of animal it is\n",
    "2. Whether the animal has a name\n",
    "3. How old the animal is\n",
    "4. Sex and fixing status of the animal\n",
    "\n",
    "To promote positive outcomes, we can possibly do the following:\n",
    "\n",
    "1. For cats, encourage getting a chip implanted. It is possible that because cats are typically \"indoor animals\" the fear of losing them may be lower than dogs who must be taken outside.\n",
    "2. Name animals. It is likely easier to bond with an animal that has a name. The adoptees can always rename an animal if they would like.\n",
    "3. Run donation drives for fixing animals. They are easier to adopt (the owner does not have to pay vet to do so or worry about dealing with pregnancy), and will help reduce overall population to a more sustainable level.\n",
    "\n",
    "Future studies:\n",
    "1. Separate dogs and cats for their own models to get more specific information.\n",
    "2. Get information on people who adopt so that different groups could be reached abo"
   ]
  },
  {
   "cell_type": "code",
   "execution_count": null,
   "metadata": {},
   "outputs": [],
   "source": []
  }
 ],
 "metadata": {
  "kernelspec": {
   "display_name": "Python 3",
   "language": "python",
   "name": "python3"
  },
  "language_info": {
   "codemirror_mode": {
    "name": "ipython",
    "version": 3
   },
   "file_extension": ".py",
   "mimetype": "text/x-python",
   "name": "python",
   "nbconvert_exporter": "python",
   "pygments_lexer": "ipython3",
   "version": "3.8.5"
  }
 },
 "nbformat": 4,
 "nbformat_minor": 5
}
